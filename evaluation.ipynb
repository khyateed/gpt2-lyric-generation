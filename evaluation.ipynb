{
 "cells": [
  {
   "cell_type": "markdown",
   "metadata": {},
   "source": [
    "# Evaluation\n",
    "- compare verb/nouns \n",
    "- look at frequency of repeated words\n",
    "- number of stop words\n",
    "- free form prompts for empirical evaluation\n",
    "- look for common beatles themes (heartbreak, girl, dancing,)\n",
    "- syllable counts"
   ]
  },
  {
   "cell_type": "code",
   "execution_count": 3,
   "metadata": {},
   "outputs": [],
   "source": [
    "# !pip install transformers\n",
    "# !pip install torch\n",
    "# !pip install stop_words"
   ]
  },
  {
   "cell_type": "code",
   "execution_count": 3,
   "metadata": {},
   "outputs": [],
   "source": [
    "import pandas as pd\n",
    "import numpy as np\n",
    "import torch\n",
    "import matplotlib.pyplot as plt \n",
    "from transformers import GPT2LMHeadModel, GPT2Tokenizer, pipeline\n",
    "import statistics\n",
    "from nltk.translate.bleu_score import sentence_bleu\n",
    "import nltk\n",
    "from nltk.corpus import stopwords\n",
    "# from stop_words import get_stop_words\n",
    "# nltk.download('punkt')\n",
    "# nltk.download('averaged_perceptron_tagger')\n",
    "# nltk.download('stopwords')"
   ]
  },
  {
   "cell_type": "code",
   "execution_count": 4,
   "metadata": {},
   "outputs": [],
   "source": [
    "def load_model(model_path):\n",
    "    model = GPT2LMHeadModel.from_pretrained(model_path)\n",
    "    return model\n",
    "\n",
    "def load_tokenizer(tokenizer_path):\n",
    "    tokenizer = GPT2Tokenizer.from_pretrained(tokenizer_path)\n",
    "    return tokenizer\n",
    "\n",
    "def generate_text(sequence, max_length, temp):\n",
    "    model_path = \"results_report\"\n",
    "    model = load_model(model_path)\n",
    "    tokenizer = load_tokenizer(model_path)\n",
    "    ids = tokenizer.encode(f'{sequence}', return_tensors='pt')\n",
    "    final_outputs = model.generate(\n",
    "        ids,\n",
    "        do_sample=True,\n",
    "        max_length=max_length,\n",
    "        pad_token_id=model.config.eos_token_id,\n",
    "        top_k=50,\n",
    "        top_p=0.95, temperature=temp\n",
    "    )\n",
    "    return(tokenizer.decode(final_outputs[0], skip_special_tokens=True))"
   ]
  },
  {
   "cell_type": "code",
   "execution_count": 5,
   "metadata": {},
   "outputs": [
    {
     "name": "stderr",
     "output_type": "stream",
     "text": [
      "Setting `pad_token_id` to `eos_token_id`:50256 for open-end generation.\n"
     ]
    },
    {
     "data": {
      "text/plain": [
       "\"Hello, I'm a language model, not a runtime model!\\n\\nWe've come to learn to understand how a language works by understanding why languages\""
      ]
     },
     "execution_count": 5,
     "metadata": {},
     "output_type": "execute_result"
    }
   ],
   "source": [
    "naive_model = pipeline('text-generation', model='gpt2-medium')\n",
    "naive_model(\"Hello, I'm a language model,\", max_length=30, num_return_sequences=1)[0]['generated_text']\n"
   ]
  },
  {
   "cell_type": "code",
   "execution_count": 6,
   "metadata": {},
   "outputs": [
    {
     "data": {
      "text/html": [
       "<div>\n",
       "<style scoped>\n",
       "    .dataframe tbody tr th:only-of-type {\n",
       "        vertical-align: middle;\n",
       "    }\n",
       "\n",
       "    .dataframe tbody tr th {\n",
       "        vertical-align: top;\n",
       "    }\n",
       "\n",
       "    .dataframe thead th {\n",
       "        text-align: right;\n",
       "    }\n",
       "</style>\n",
       "<table border=\"1\" class=\"dataframe\">\n",
       "  <thead>\n",
       "    <tr style=\"text-align: right;\">\n",
       "      <th></th>\n",
       "      <th>lyrics</th>\n",
       "    </tr>\n",
       "  </thead>\n",
       "  <tbody>\n",
       "    <tr>\n",
       "      <th>0</th>\n",
       "      <td>Don't let me down, don't let me down Don't let...</td>\n",
       "    </tr>\n",
       "    <tr>\n",
       "      <th>1</th>\n",
       "      <td>I get high when I see you go by My oh my When ...</td>\n",
       "    </tr>\n",
       "    <tr>\n",
       "      <th>2</th>\n",
       "      <td>[All too much!] It's all too much It's all to...</td>\n",
       "    </tr>\n",
       "    <tr>\n",
       "      <th>3</th>\n",
       "      <td>I love you, 'cause you tell me things I want t...</td>\n",
       "    </tr>\n",
       "    <tr>\n",
       "      <th>4</th>\n",
       "      <td>Is there anybody going to listen to my story A...</td>\n",
       "    </tr>\n",
       "  </tbody>\n",
       "</table>\n",
       "</div>"
      ],
      "text/plain": [
       "                                              lyrics\n",
       "0  Don't let me down, don't let me down Don't let...\n",
       "1  I get high when I see you go by My oh my When ...\n",
       "2   [All too much!] It's all too much It's all to...\n",
       "3  I love you, 'cause you tell me things I want t...\n",
       "4  Is there anybody going to listen to my story A..."
      ]
     },
     "execution_count": 6,
     "metadata": {},
     "output_type": "execute_result"
    }
   ],
   "source": [
    "test = pd.read_parquet('testing_lyrics.parquet').reset_index(drop=True)\n",
    "test.head()"
   ]
  },
  {
   "cell_type": "code",
   "execution_count": 17,
   "metadata": {},
   "outputs": [],
   "source": [
    "# test['input'] = test['lyrics'].apply(lambda x: ' '.join(x.split()[:50])) # 50 tokens\n",
    "# test['tuned_prediction'] = test['input'].apply(lambda input_text: generate_text(input_text ,200, temp=.7)) # 200 tokens\n",
    "# test['naive_prediction'] = test['input'].apply(lambda input_text: naive_model(input_text, max_length=200, num_return_sequences=1)[0]['generated_text'])\n",
    "# test.to_parquet('predictions.parquet')"
   ]
  },
  {
   "cell_type": "code",
   "execution_count": 18,
   "metadata": {},
   "outputs": [
    {
     "data": {
      "text/html": [
       "<div>\n",
       "<style scoped>\n",
       "    .dataframe tbody tr th:only-of-type {\n",
       "        vertical-align: middle;\n",
       "    }\n",
       "\n",
       "    .dataframe tbody tr th {\n",
       "        vertical-align: top;\n",
       "    }\n",
       "\n",
       "    .dataframe thead th {\n",
       "        text-align: right;\n",
       "    }\n",
       "</style>\n",
       "<table border=\"1\" class=\"dataframe\">\n",
       "  <thead>\n",
       "    <tr style=\"text-align: right;\">\n",
       "      <th></th>\n",
       "      <th>lyrics</th>\n",
       "      <th>input</th>\n",
       "      <th>naive_prediction</th>\n",
       "      <th>tuned_prediction</th>\n",
       "      <th>lyrics_end</th>\n",
       "      <th>naive_prediction_end</th>\n",
       "      <th>tuned_prediction_end</th>\n",
       "    </tr>\n",
       "  </thead>\n",
       "  <tbody>\n",
       "    <tr>\n",
       "      <th>0</th>\n",
       "      <td>Don't let me down, don't let me down Don't let...</td>\n",
       "      <td>Don't let me down, don't let me down Don't let...</td>\n",
       "      <td>Don't let me down, don't let me down Don't let...</td>\n",
       "      <td>Don't let me down, don't let me down Don't let...</td>\n",
       "      <td>let me down Don't let me down, don't let me do...</td>\n",
       "      <td>let me down I love you (more and louder) I lov...</td>\n",
       "      <td>let me down Don't let me down, don't let me do...</td>\n",
       "    </tr>\n",
       "    <tr>\n",
       "      <th>1</th>\n",
       "      <td>I get high when I see you go by My oh my When ...</td>\n",
       "      <td>I get high when I see you go by My oh my When ...</td>\n",
       "      <td>I get high when I see you go by My oh my When ...</td>\n",
       "      <td>I get high when I see you go by My oh my When ...</td>\n",
       "      <td>is all But it's so hard loving you Is it right...</td>\n",
       "      <td>all I can do Why is there not more love in you...</td>\n",
       "      <td>is all But it's so hard loving you Is it right...</td>\n",
       "    </tr>\n",
       "    <tr>\n",
       "      <th>2</th>\n",
       "      <td>[All too much!] It's all too much It's all to...</td>\n",
       "      <td>[All too much!] It's all too much It's all too...</td>\n",
       "      <td>[All too much!] It's all too much It's all too...</td>\n",
       "      <td>[All too much!] It's all too much It's all too...</td>\n",
       "      <td>Everywhere, it's what you make For us to take,...</td>\n",
       "      <td>seems to be gone forever Now I'm just another ...</td>\n",
       "      <td>Everywhere, it's what you make For us to take,...</td>\n",
       "    </tr>\n",
       "    <tr>\n",
       "      <th>3</th>\n",
       "      <td>I love you, 'cause you tell me things I want t...</td>\n",
       "      <td>I love you, 'cause you tell me things I want t...</td>\n",
       "      <td>I love you, 'cause you tell me things I want t...</td>\n",
       "      <td>I love you, 'cause you tell me things I want t...</td>\n",
       "      <td>the reason why If I cry, it's not because I'm ...</td>\n",
       "      <td>And never ever forget that I'm my own mother O...</td>\n",
       "      <td>I Would love to love you And to hold you, to l...</td>\n",
       "    </tr>\n",
       "    <tr>\n",
       "      <th>4</th>\n",
       "      <td>Is there anybody going to listen to my story A...</td>\n",
       "      <td>Is there anybody going to listen to my story A...</td>\n",
       "      <td>Is there anybody going to listen to my story A...</td>\n",
       "      <td>Is there anybody going to listen to my story A...</td>\n",
       "      <td>so hard to leave her She will turn to me and s...</td>\n",
       "      <td>to forget. Ah, girl when I think of all the ti...</td>\n",
       "      <td>so hard to leave her She will turn to me and s...</td>\n",
       "    </tr>\n",
       "  </tbody>\n",
       "</table>\n",
       "</div>"
      ],
      "text/plain": [
       "                                              lyrics  \\\n",
       "0  Don't let me down, don't let me down Don't let...   \n",
       "1  I get high when I see you go by My oh my When ...   \n",
       "2   [All too much!] It's all too much It's all to...   \n",
       "3  I love you, 'cause you tell me things I want t...   \n",
       "4  Is there anybody going to listen to my story A...   \n",
       "\n",
       "                                               input  \\\n",
       "0  Don't let me down, don't let me down Don't let...   \n",
       "1  I get high when I see you go by My oh my When ...   \n",
       "2  [All too much!] It's all too much It's all too...   \n",
       "3  I love you, 'cause you tell me things I want t...   \n",
       "4  Is there anybody going to listen to my story A...   \n",
       "\n",
       "                                    naive_prediction  \\\n",
       "0  Don't let me down, don't let me down Don't let...   \n",
       "1  I get high when I see you go by My oh my When ...   \n",
       "2  [All too much!] It's all too much It's all too...   \n",
       "3  I love you, 'cause you tell me things I want t...   \n",
       "4  Is there anybody going to listen to my story A...   \n",
       "\n",
       "                                    tuned_prediction  \\\n",
       "0  Don't let me down, don't let me down Don't let...   \n",
       "1  I get high when I see you go by My oh my When ...   \n",
       "2  [All too much!] It's all too much It's all too...   \n",
       "3  I love you, 'cause you tell me things I want t...   \n",
       "4  Is there anybody going to listen to my story A...   \n",
       "\n",
       "                                          lyrics_end  \\\n",
       "0  let me down Don't let me down, don't let me do...   \n",
       "1  is all But it's so hard loving you Is it right...   \n",
       "2  Everywhere, it's what you make For us to take,...   \n",
       "3  the reason why If I cry, it's not because I'm ...   \n",
       "4  so hard to leave her She will turn to me and s...   \n",
       "\n",
       "                                naive_prediction_end  \\\n",
       "0  let me down I love you (more and louder) I lov...   \n",
       "1  all I can do Why is there not more love in you...   \n",
       "2  seems to be gone forever Now I'm just another ...   \n",
       "3  And never ever forget that I'm my own mother O...   \n",
       "4  to forget. Ah, girl when I think of all the ti...   \n",
       "\n",
       "                                tuned_prediction_end  \n",
       "0  let me down Don't let me down, don't let me do...  \n",
       "1  is all But it's so hard loving you Is it right...  \n",
       "2  Everywhere, it's what you make For us to take,...  \n",
       "3  I Would love to love you And to hold you, to l...  \n",
       "4  so hard to leave her She will turn to me and s...  "
      ]
     },
     "execution_count": 18,
     "metadata": {},
     "output_type": "execute_result"
    }
   ],
   "source": [
    "preds = pd.read_parquet('predictions.parquet')\n",
    "preds['lyrics_end'] = preds['lyrics'].apply(lambda x: ' '.join(x.split()[50:150])) # 100 tokens\n",
    "preds['naive_prediction_end'] = preds['naive_prediction'].apply(lambda x: ' '.join(x.split()[50:150])) # 100 tokens\n",
    "preds['tuned_prediction_end'] = preds['tuned_prediction'].apply(lambda x: ' '.join(x.split()[50:150])) # 100 tokens\n",
    "preds.head()"
   ]
  },
  {
   "cell_type": "markdown",
   "metadata": {},
   "source": [
    "## BLEU Score"
   ]
  },
  {
   "cell_type": "code",
   "execution_count": 20,
   "metadata": {},
   "outputs": [
    {
     "name": "stdout",
     "output_type": "stream",
     "text": [
      "I'm looking through you, where did you go? I thought I knew you, what did I know? You don't look different, but you have changed I'm looking through you, you're not the same Your lips are moving, I cannot hear Your voice is soothing, but the words aren't clear You \n",
      "\n",
      "don't sound different, I've learned the game I'm looking through you, you're not the same Why, tell me why, did you not treat me right? Love has a nasty habit of disappearing overnight You're thinking of me, the same old way You were above me, but not today The only difference is you're down there I'm looking through you, and you're nowhere Why, tell me why, did you not treat me right? Love has a nasty habit of disappearing overnight I'm looking through you, where did you go I thought I knew you, what did I know You don't look \n",
      "\n",
      "are not smiling and I don't think I can see Your lips are moving, I cannot hear My ears hear whispers, I cannot find you You, your eyes are bright and shining, the sound echoes, You are not the same My skin is soft and warm you're not the same You, your hands are smooth and beautiful you're not the same You, your face is gentle, you're not the same You, your hands are silky and radiant you're not the same Your voice is soft and sweet and gentle You are not the same Your eyes are bright and golden \n",
      "\n",
      "don't sound different, I've learned the game I'm looking through you, you're not the same Why, tell me why, did you not treat me right? Love has a nasty habit of disappearing overnight You're thinking of me, the same old way You were above me, but not today The only difference is you're down there I'm looking through you, where did you go? I thought I knew you, what did I know? You don't look different, but you have changed I'm looking through you, you're not the same Why, tell me why, did you not treat me right? Love has\n"
     ]
    }
   ],
   "source": [
    "i = 10\n",
    "print(preds['input'][i],'\\n')\n",
    "print(preds['lyrics_end'][i],'\\n')\n",
    "print(preds['naive_prediction_end'][i],'\\n')\n",
    "print(preds['tuned_prediction_end'][i])"
   ]
  },
  {
   "cell_type": "code",
   "execution_count": 19,
   "metadata": {},
   "outputs": [],
   "source": [
    "def tokenize(string):\n",
    "    return(string.lower().replace(',','').replace('(','').replace(')','').replace(\"?\",'').split(' '))"
   ]
  },
  {
   "cell_type": "code",
   "execution_count": 20,
   "metadata": {},
   "outputs": [
    {
     "name": "stderr",
     "output_type": "stream",
     "text": [
      "/opt/conda/lib/python3.7/site-packages/nltk/translate/bleu_score.py:552: UserWarning: \n",
      "The hypothesis contains 0 counts of 3-gram overlaps.\n",
      "Therefore the BLEU score evaluates to 0, independently of\n",
      "how many N-gram overlaps of lower order it contains.\n",
      "Consider using lower n-gram order or use SmoothingFunction()\n",
      "  warnings.warn(_msg)\n",
      "/opt/conda/lib/python3.7/site-packages/nltk/translate/bleu_score.py:552: UserWarning: \n",
      "The hypothesis contains 0 counts of 4-gram overlaps.\n",
      "Therefore the BLEU score evaluates to 0, independently of\n",
      "how many N-gram overlaps of lower order it contains.\n",
      "Consider using lower n-gram order or use SmoothingFunction()\n",
      "  warnings.warn(_msg)\n"
     ]
    },
    {
     "data": {
      "text/plain": [
       "[(0, 0.2897712227359836),\n",
       " (1, 0.646375296523063),\n",
       " (2, 0.23402930214913525),\n",
       " (3, 0.3752997659565948),\n",
       " (4, 0.20700349754928846),\n",
       " (5, 0.7712891710003998),\n",
       " (6, 0.5057273040147398),\n",
       " (7, 0.09564326415242994),\n",
       " (8, 0.42360702654533455),\n",
       " (9, 0.4759008404227064),\n",
       " (10, 0.9898464007679532),\n",
       " (11, 0.2047433805375264),\n",
       " (12, 0.42116538580137375),\n",
       " (13, 0.1512723047121723),\n",
       " (14, 0.23144294603400217),\n",
       " (15, 0.6058411988967459),\n",
       " (16, 0.2906926607808719),\n",
       " (17, 0.6722418959687326),\n",
       " (18, 0.7480215085762352),\n",
       " (19, 0.1641934295933072),\n",
       " (20, 0.6731466875872781),\n",
       " (21, 2.9429726889060215e-155),\n",
       " (22, 0.36221828372658416),\n",
       " (23, 0.5342088306247204),\n",
       " (24, 3.0365165142715324e-155),\n",
       " (25, 0.6586660362825382),\n",
       " (26, 0.12467238394823492),\n",
       " (27, 0.2632676481282301),\n",
       " (28, 0.08642344511992131),\n",
       " (29, 0.6668295025207619),\n",
       " (30, 2.6592760182644606e-155),\n",
       " (31, 0.6565415167594035),\n",
       " (32, 0.19856505956263457),\n",
       " (33, 0.36166204890743703)]"
      ]
     },
     "execution_count": 20,
     "metadata": {},
     "output_type": "execute_result"
    }
   ],
   "source": [
    "scores=[]\n",
    "for i in range(len(preds)):\n",
    "    reference = [tokenize(preds['lyrics_end'][i])]\n",
    "    candidate = tokenize(preds['prediction_end'][i])\n",
    "    scores.append((i,sentence_bleu(reference, candidate)))\n",
    "\n",
    "scores"
   ]
  },
  {
   "cell_type": "code",
   "execution_count": 21,
   "metadata": {},
   "outputs": [
    {
     "data": {
      "text/plain": [
       "0.38500909546724543"
      ]
     },
     "execution_count": 21,
     "metadata": {},
     "output_type": "execute_result"
    }
   ],
   "source": [
    "just_scores=[]\n",
    "total =0\n",
    "[just_scores.append(score) for i, score in scores]\n",
    "for num in just_scores:\n",
    "    total+=num\n",
    "total/len(just_scores)"
   ]
  },
  {
   "cell_type": "markdown",
   "metadata": {},
   "source": [
    "## Parts of Speech"
   ]
  },
  {
   "cell_type": "code",
   "execution_count": 22,
   "metadata": {},
   "outputs": [
    {
     "data": {
      "text/html": [
       "<div>\n",
       "<style scoped>\n",
       "    .dataframe tbody tr th:only-of-type {\n",
       "        vertical-align: middle;\n",
       "    }\n",
       "\n",
       "    .dataframe tbody tr th {\n",
       "        vertical-align: top;\n",
       "    }\n",
       "\n",
       "    .dataframe thead th {\n",
       "        text-align: right;\n",
       "    }\n",
       "</style>\n",
       "<table border=\"1\" class=\"dataframe\">\n",
       "  <thead>\n",
       "    <tr style=\"text-align: right;\">\n",
       "      <th></th>\n",
       "      <th>input</th>\n",
       "      <th>lyrics_end</th>\n",
       "      <th>prediction_end</th>\n",
       "    </tr>\n",
       "  </thead>\n",
       "  <tbody>\n",
       "    <tr>\n",
       "      <th>0</th>\n",
       "      <td>Don't let me down, don't let me down Don't let...</td>\n",
       "      <td>let me down Don't let me down, don't let me do...</td>\n",
       "      <td>let me down Don't let me down, don't let me do...</td>\n",
       "    </tr>\n",
       "    <tr>\n",
       "      <th>1</th>\n",
       "      <td>I get high when I see you go by My oh my When ...</td>\n",
       "      <td>is all But it's so hard loving you Is it right...</td>\n",
       "      <td>is all But it's so hard loving you Is it right...</td>\n",
       "    </tr>\n",
       "    <tr>\n",
       "      <th>2</th>\n",
       "      <td>[All too much!] It's all too much It's all too...</td>\n",
       "      <td>Everywhere, it's what you make For us to take,...</td>\n",
       "      <td>Everywhere, it's what you make For us to take,...</td>\n",
       "    </tr>\n",
       "    <tr>\n",
       "      <th>3</th>\n",
       "      <td>I love you, 'cause you tell me things I want t...</td>\n",
       "      <td>the reason why If I cry, it's not because I'm ...</td>\n",
       "      <td>The things you say like that I love you, 'caus...</td>\n",
       "    </tr>\n",
       "    <tr>\n",
       "      <th>4</th>\n",
       "      <td>Is there anybody going to listen to my story A...</td>\n",
       "      <td>so hard to leave her She will turn to me and s...</td>\n",
       "      <td>so hard to leave her She will turn to me and s...</td>\n",
       "    </tr>\n",
       "  </tbody>\n",
       "</table>\n",
       "</div>"
      ],
      "text/plain": [
       "                                               input  \\\n",
       "0  Don't let me down, don't let me down Don't let...   \n",
       "1  I get high when I see you go by My oh my When ...   \n",
       "2  [All too much!] It's all too much It's all too...   \n",
       "3  I love you, 'cause you tell me things I want t...   \n",
       "4  Is there anybody going to listen to my story A...   \n",
       "\n",
       "                                          lyrics_end  \\\n",
       "0  let me down Don't let me down, don't let me do...   \n",
       "1  is all But it's so hard loving you Is it right...   \n",
       "2  Everywhere, it's what you make For us to take,...   \n",
       "3  the reason why If I cry, it's not because I'm ...   \n",
       "4  so hard to leave her She will turn to me and s...   \n",
       "\n",
       "                                      prediction_end  \n",
       "0  let me down Don't let me down, don't let me do...  \n",
       "1  is all But it's so hard loving you Is it right...  \n",
       "2  Everywhere, it's what you make For us to take,...  \n",
       "3  The things you say like that I love you, 'caus...  \n",
       "4  so hard to leave her She will turn to me and s...  "
      ]
     },
     "execution_count": 22,
     "metadata": {},
     "output_type": "execute_result"
    }
   ],
   "source": [
    "preds[['input', 'lyrics_end', 'prediction_end']].head()"
   ]
  },
  {
   "cell_type": "code",
   "execution_count": 23,
   "metadata": {},
   "outputs": [],
   "source": [
    "all_preds_str = ' '.join(list(preds.prediction_end.str.lower()))\n",
    "all_actual_str = ' '.join(list(preds.lyrics_end.str.lower()))\n"
   ]
  },
  {
   "cell_type": "code",
   "execution_count": 24,
   "metadata": {},
   "outputs": [],
   "source": [
    "tokens = tokenize(all_actual_str)\n",
    "pos = nltk.pos_tag(tokens)\n",
    "actual_counts={}\n",
    "for word, tag in pos:\n",
    "    if tag in actual_counts:\n",
    "        actual_counts[tag]+=1\n",
    "    else:\n",
    "        actual_counts[tag]=1\n",
    "\n",
    "tokens = tokenize(all_preds_str)\n",
    "pos = nltk.pos_tag(tokens)\n",
    "pred_counts={}\n",
    "for word, tag in pos:\n",
    "    if tag in pred_counts:\n",
    "        pred_counts[tag]+=1\n",
    "    else:\n",
    "        pred_counts[tag]=1\n"
   ]
  },
  {
   "cell_type": "code",
   "execution_count": 25,
   "metadata": {},
   "outputs": [
    {
     "data": {
      "text/html": [
       "<div>\n",
       "<style scoped>\n",
       "    .dataframe tbody tr th:only-of-type {\n",
       "        vertical-align: middle;\n",
       "    }\n",
       "\n",
       "    .dataframe tbody tr th {\n",
       "        vertical-align: top;\n",
       "    }\n",
       "\n",
       "    .dataframe thead th {\n",
       "        text-align: right;\n",
       "    }\n",
       "</style>\n",
       "<table border=\"1\" class=\"dataframe\">\n",
       "  <thead>\n",
       "    <tr style=\"text-align: right;\">\n",
       "      <th></th>\n",
       "      <th>actual</th>\n",
       "      <th>prediction</th>\n",
       "    </tr>\n",
       "  </thead>\n",
       "  <tbody>\n",
       "    <tr>\n",
       "      <th>NN</th>\n",
       "      <td>653</td>\n",
       "      <td>692.0</td>\n",
       "    </tr>\n",
       "    <tr>\n",
       "      <th>VB</th>\n",
       "      <td>300</td>\n",
       "      <td>310.0</td>\n",
       "    </tr>\n",
       "    <tr>\n",
       "      <th>PRP</th>\n",
       "      <td>293</td>\n",
       "      <td>318.0</td>\n",
       "    </tr>\n",
       "    <tr>\n",
       "      <th>JJ</th>\n",
       "      <td>273</td>\n",
       "      <td>252.0</td>\n",
       "    </tr>\n",
       "    <tr>\n",
       "      <th>IN</th>\n",
       "      <td>245</td>\n",
       "      <td>282.0</td>\n",
       "    </tr>\n",
       "    <tr>\n",
       "      <th>VBP</th>\n",
       "      <td>244</td>\n",
       "      <td>218.0</td>\n",
       "    </tr>\n",
       "    <tr>\n",
       "      <th>RB</th>\n",
       "      <td>230</td>\n",
       "      <td>218.0</td>\n",
       "    </tr>\n",
       "    <tr>\n",
       "      <th>DT</th>\n",
       "      <td>209</td>\n",
       "      <td>244.0</td>\n",
       "    </tr>\n",
       "    <tr>\n",
       "      <th>PRP$</th>\n",
       "      <td>115</td>\n",
       "      <td>118.0</td>\n",
       "    </tr>\n",
       "    <tr>\n",
       "      <th>CC</th>\n",
       "      <td>110</td>\n",
       "      <td>110.0</td>\n",
       "    </tr>\n",
       "    <tr>\n",
       "      <th>VBD</th>\n",
       "      <td>100</td>\n",
       "      <td>106.0</td>\n",
       "    </tr>\n",
       "    <tr>\n",
       "      <th>NNS</th>\n",
       "      <td>80</td>\n",
       "      <td>71.0</td>\n",
       "    </tr>\n",
       "    <tr>\n",
       "      <th>VBZ</th>\n",
       "      <td>77</td>\n",
       "      <td>64.0</td>\n",
       "    </tr>\n",
       "    <tr>\n",
       "      <th>TO</th>\n",
       "      <td>68</td>\n",
       "      <td>70.0</td>\n",
       "    </tr>\n",
       "    <tr>\n",
       "      <th>VBG</th>\n",
       "      <td>56</td>\n",
       "      <td>60.0</td>\n",
       "    </tr>\n",
       "    <tr>\n",
       "      <th>MD</th>\n",
       "      <td>43</td>\n",
       "      <td>55.0</td>\n",
       "    </tr>\n",
       "    <tr>\n",
       "      <th>WRB</th>\n",
       "      <td>42</td>\n",
       "      <td>43.0</td>\n",
       "    </tr>\n",
       "    <tr>\n",
       "      <th>VBN</th>\n",
       "      <td>41</td>\n",
       "      <td>45.0</td>\n",
       "    </tr>\n",
       "    <tr>\n",
       "      <th>RP</th>\n",
       "      <td>25</td>\n",
       "      <td>23.0</td>\n",
       "    </tr>\n",
       "    <tr>\n",
       "      <th>WP</th>\n",
       "      <td>19</td>\n",
       "      <td>15.0</td>\n",
       "    </tr>\n",
       "    <tr>\n",
       "      <th>CD</th>\n",
       "      <td>14</td>\n",
       "      <td>14.0</td>\n",
       "    </tr>\n",
       "    <tr>\n",
       "      <th>JJR</th>\n",
       "      <td>13</td>\n",
       "      <td>9.0</td>\n",
       "    </tr>\n",
       "    <tr>\n",
       "      <th>WDT</th>\n",
       "      <td>11</td>\n",
       "      <td>6.0</td>\n",
       "    </tr>\n",
       "    <tr>\n",
       "      <th>PDT</th>\n",
       "      <td>8</td>\n",
       "      <td>6.0</td>\n",
       "    </tr>\n",
       "    <tr>\n",
       "      <th>UH</th>\n",
       "      <td>7</td>\n",
       "      <td>11.0</td>\n",
       "    </tr>\n",
       "    <tr>\n",
       "      <th>FW</th>\n",
       "      <td>6</td>\n",
       "      <td>17.0</td>\n",
       "    </tr>\n",
       "    <tr>\n",
       "      <th>EX</th>\n",
       "      <td>5</td>\n",
       "      <td>6.0</td>\n",
       "    </tr>\n",
       "    <tr>\n",
       "      <th>RBR</th>\n",
       "      <td>4</td>\n",
       "      <td>4.0</td>\n",
       "    </tr>\n",
       "    <tr>\n",
       "      <th>NNP</th>\n",
       "      <td>4</td>\n",
       "      <td>13.0</td>\n",
       "    </tr>\n",
       "    <tr>\n",
       "      <th>POS</th>\n",
       "      <td>1</td>\n",
       "      <td>NaN</td>\n",
       "    </tr>\n",
       "  </tbody>\n",
       "</table>\n",
       "</div>"
      ],
      "text/plain": [
       "      actual  prediction\n",
       "NN       653       692.0\n",
       "VB       300       310.0\n",
       "PRP      293       318.0\n",
       "JJ       273       252.0\n",
       "IN       245       282.0\n",
       "VBP      244       218.0\n",
       "RB       230       218.0\n",
       "DT       209       244.0\n",
       "PRP$     115       118.0\n",
       "CC       110       110.0\n",
       "VBD      100       106.0\n",
       "NNS       80        71.0\n",
       "VBZ       77        64.0\n",
       "TO        68        70.0\n",
       "VBG       56        60.0\n",
       "MD        43        55.0\n",
       "WRB       42        43.0\n",
       "VBN       41        45.0\n",
       "RP        25        23.0\n",
       "WP        19        15.0\n",
       "CD        14        14.0\n",
       "JJR       13         9.0\n",
       "WDT       11         6.0\n",
       "PDT        8         6.0\n",
       "UH         7        11.0\n",
       "FW         6        17.0\n",
       "EX         5         6.0\n",
       "RBR        4         4.0\n",
       "NNP        4        13.0\n",
       "POS        1         NaN"
      ]
     },
     "execution_count": 25,
     "metadata": {},
     "output_type": "execute_result"
    }
   ],
   "source": [
    "pos_dist = pd.concat([pd.Series(actual_counts),pd.Series(pred_counts)],axis=1).rename(columns={0:'actual', 1:'prediction'}).sort_values('actual',ascending=False)\n",
    "pos_dist"
   ]
  },
  {
   "cell_type": "code",
   "execution_count": 26,
   "metadata": {},
   "outputs": [
    {
     "data": {
      "image/png": "[encoded data removed]",
      "text/plain": [
       "<Figure size 1200x600 with 1 Axes>"
      ]
     },
     "metadata": {},
     "output_type": "display_data"
    }
   ],
   "source": [
    "ind = np.arange(len(pos_dist))  # the x locations for the groups\n",
    "width = .45\n",
    "plt.figure(figsize=[12,6])\n",
    "plt.bar(ind+width, pos_dist.prediction, .5, label='Predicted Lyrics', color='teal')\n",
    "plt.bar(ind, pos_dist.actual, .5, label='Original Lyrics', color='orange')\n",
    "plt.xticks(rotation=55)\n",
    "plt.legend()\n",
    "plt.xlabel('Part of Speech')\n",
    "plt.ylabel('Word Count')\n",
    "plt.xticks(ind + width / 2, (pos_dist.index),rotation=55)\n",
    "plt.show()"
   ]
  },
  {
   "cell_type": "markdown",
   "metadata": {},
   "source": [
    "## Count Frequency"
   ]
  },
  {
   "cell_type": "code",
   "execution_count": 29,
   "metadata": {},
   "outputs": [],
   "source": [
    "nltk_stop_words = list(stopwords.words('english'))\n",
    "stop_words = list(get_stop_words('en'))\n",
    "stop_words.extend(nltk_stop_words)\n",
    "\n",
    "all_actual_str_no_stop = [w for w in tokenize(all_actual_str) if not w in stop_words]\n",
    "all_preds_str_no_stop = [w for w in tokenize(all_preds_str) if not w in stop_words]\n"
   ]
  },
  {
   "cell_type": "code",
   "execution_count": 30,
   "metadata": {},
   "outputs": [
    {
     "data": {
      "text/plain": [
       "['let', 'me', 'down', \"don't\", 'let', 'me', 'down', \"don't\", 'let', 'me']"
      ]
     },
     "execution_count": 30,
     "metadata": {},
     "output_type": "execute_result"
    }
   ],
   "source": [
    "tokenize(all_actual_str)[:10]"
   ]
  },
  {
   "cell_type": "code",
   "execution_count": 31,
   "metadata": {},
   "outputs": [
    {
     "data": {
      "text/plain": [
       "['let', 'let', 'let', 'love', 'first', 'time', 'know', 'gonna', 'last', 'love']"
      ]
     },
     "execution_count": 31,
     "metadata": {},
     "output_type": "execute_result"
    }
   ],
   "source": [
    "all_actual_str_no_stop[:10]"
   ]
  },
  {
   "cell_type": "code",
   "execution_count": 32,
   "metadata": {},
   "outputs": [
    {
     "data": {
      "image/png": "[encoded data removed]",
      "text/plain": [
       "<Figure size 640x480 with 1 Axes>"
      ]
     },
     "metadata": {},
     "output_type": "display_data"
    }
   ],
   "source": [
    "data_analysis = nltk.FreqDist(all_actual_str_no_stop)\n",
    "filter_words = dict([(m, n) for m, n in data_analysis.items() if len(m) > 2])\n",
    "data_analysis = nltk.FreqDist(filter_words)\n",
    "data_analysis.plot(25, cumulative=False);\n",
    "plt.title('Frequent Words in Original Lyrics');\n"
   ]
  },
  {
   "cell_type": "code",
   "execution_count": 33,
   "metadata": {},
   "outputs": [
    {
     "data": {
      "image/png": "[encoded data removed]",
      "text/plain": [
       "<Figure size 640x480 with 1 Axes>"
      ]
     },
     "metadata": {},
     "output_type": "display_data"
    }
   ],
   "source": [
    "data_analysis = nltk.FreqDist(all_preds_str_no_stop)\n",
    "filter_words = dict([(m, n) for m, n in data_analysis.items() if len(m) > 2])\n",
    "data_analysis = nltk.FreqDist(filter_words)\n",
    "data_analysis.plot(25, cumulative=False);\n",
    "plt.title('Frequent Words in Generated Lyrics');"
   ]
  },
  {
   "cell_type": "markdown",
   "metadata": {},
   "source": [
    "## Free Text Generation"
   ]
  },
  {
   "cell_type": "code",
   "execution_count": 34,
   "metadata": {},
   "outputs": [],
   "source": [
    "def generate_text(sequence, max_length, temp):\n",
    "    model_path = \"results_old\"\n",
    "    model = load_model(model_path)\n",
    "    tokenizer = load_tokenizer(model_path)\n",
    "    ids = tokenizer.encode(f'{sequence}', return_tensors='pt')\n",
    "    final_outputs = model.generate(\n",
    "        ids,\n",
    "        do_sample=True,\n",
    "        max_length=max_length,\n",
    "        pad_token_id=model.config.eos_token_id,\n",
    "        top_k=50,\n",
    "        top_p=0.95, temperature=temp\n",
    "    )\n",
    "    return(tokenizer.decode(final_outputs[0], skip_special_tokens=True))"
   ]
  },
  {
   "cell_type": "code",
   "execution_count": 42,
   "metadata": {},
   "outputs": [
    {
     "data": {
      "text/plain": [
       "\"I am going to find her, oh I know where she's been Misunderstanding the situation Taking the easy way out For she would never be free When I was around Ah I'm looking through you, where did you go? I thought I knew you, what did I know? You don't look different, but you have changed I'm looking through you, you're not the same Your lips are moving, I cannot hear Your voice is soothing, but the words aren't clear You don't\""
      ]
     },
     "execution_count": 42,
     "metadata": {},
     "output_type": "execute_result"
    }
   ],
   "source": [
    "output = generate_text(\"I am going\", 100, temp=.5)\n",
    "output"
   ]
  },
  {
   "cell_type": "code",
   "execution_count": 43,
   "metadata": {},
   "outputs": [
    {
     "name": "stdout",
     "output_type": "stream",
     "text": [
      "I am going to love you more Every day I get to the bottom of this I can't believe it's happened to me I can't conceive of any more misery Ask me why, I'll say I love you And I'm always thinking of you I can't conceive of any more misery Ask me why, I'll say I love you And I'm always thinking of you Oh darling, you are so young and beautiful And you'll be able to see me standing there I'm certain that I will\n"
     ]
    }
   ],
   "source": [
    "output = generate_text(\"I am going\", 100, temp=1.2)\n",
    "print(output)"
   ]
  },
  {
   "cell_type": "code",
   "execution_count": 44,
   "metadata": {},
   "outputs": [
    {
     "name": "stdout",
     "output_type": "stream",
     "text": [
      "I am going to London to see my brother. Can you take me, brother?】 Yes You may be a lover but you ain't no dancer Look out helter skelter helter skelter Helter skelter ooh Look out helter skelter for the glimmer of hope Shine bright, come off your high horse Here comes the Sun King Here comes the Sun King to show his love for you Sexy Sadie what you can do When you're under the stars Looking\n"
     ]
    }
   ],
   "source": [
    "output = generate_text(\"I am going\", 100, temp=1.7)\n",
    "print(output)"
   ]
  },
  {
   "cell_type": "code",
   "execution_count": 45,
   "metadata": {},
   "outputs": [
    {
     "name": "stdout",
     "output_type": "stream",
     "text": [
      "I am going] The party has left town She said \"I cannot invite you here again Let me look around Until I find a nice obed sister With a glass neck and sharp dressed white hair She's the latest specimen my dad got sent to me,\" crying BibimbofundityNobly locatedHumboldt rescue dug his graveNo one reported The rumoured disease was triflingThird sighting is the news I've been anxiously waitingfor Sit back and have the tour roll pleaseTrey\n"
     ]
    }
   ],
   "source": [
    "output = generate_text(\"I am going\", 100, temp=3.0)\n",
    "print(output)"
   ]
  },
  {
   "cell_type": "code",
   "execution_count": null,
   "metadata": {},
   "outputs": [],
   "source": []
  }
 ],
 "metadata": {
  "instance_type": "ml.g4dn.xlarge",
  "kernelspec": {
   "display_name": "Python 3 (Data Science)",
   "language": "python",
   "name": "python3__SAGEMAKER_INTERNAL__arn:aws:sagemaker:us-east-1:081325390199:image/datascience-1.0"
  },
  "language_info": {
   "codemirror_mode": {
    "name": "ipython",
    "version": 3
   },
   "file_extension": ".py",
   "mimetype": "text/x-python",
   "name": "python",
   "nbconvert_exporter": "python",
   "pygments_lexer": "ipython3",
   "version": "3.7.10"
  }
 },
 "nbformat": 4,
 "nbformat_minor": 4
}
