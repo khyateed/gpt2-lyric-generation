{
 "cells": [
  {
   "cell_type": "markdown",
   "metadata": {},
   "source": [
    "# Model Evaluation\n",
    "This notebook evaluates the finetuned model on our test set by inspecting part-of-speech, count frequencies, and model temperature, and compares performance to a naive unsupervised GPT-2 model.\n",
    "## Song Lyric Generation with GPT-2\n",
    "**Data Mining Final Project**<br>\n",
    "Khyatee Desai<br>Dec. 19, 2022\n"
   ]
  },
  {
   "cell_type": "code",
   "execution_count": 8,
   "metadata": {},
   "outputs": [],
   "source": [
    "# !pip install transformers\n",
    "# !pip install torch\n",
    "# !pip install stop_words"
   ]
  },
  {
   "cell_type": "code",
   "execution_count": 7,
   "metadata": {},
   "outputs": [],
   "source": [
    "import pandas as pd\n",
    "import numpy as np\n",
    "import torch\n",
    "import matplotlib.pyplot as plt \n",
    "from transformers import GPT2LMHeadModel, GPT2Tokenizer, pipeline\n",
    "import statistics\n",
    "from nltk.translate.bleu_score import sentence_bleu\n",
    "import nltk\n",
    "from nltk.corpus import stopwords\n",
    "from stop_words import get_stop_words\n",
    "# nltk.download('punkt')\n",
    "# nltk.download('averaged_perceptron_tagger')\n",
    "# nltk.download('stopwords')"
   ]
  },
  {
   "cell_type": "code",
   "execution_count": 11,
   "metadata": {},
   "outputs": [
    {
     "data": {
      "text/html": [
       "<div>\n",
       "<style scoped>\n",
       "    .dataframe tbody tr th:only-of-type {\n",
       "        vertical-align: middle;\n",
       "    }\n",
       "\n",
       "    .dataframe tbody tr th {\n",
       "        vertical-align: top;\n",
       "    }\n",
       "\n",
       "    .dataframe thead th {\n",
       "        text-align: right;\n",
       "    }\n",
       "</style>\n",
       "<table border=\"1\" class=\"dataframe\">\n",
       "  <thead>\n",
       "    <tr style=\"text-align: right;\">\n",
       "      <th></th>\n",
       "      <th>lyrics</th>\n",
       "    </tr>\n",
       "  </thead>\n",
       "  <tbody>\n",
       "    <tr>\n",
       "      <th>0</th>\n",
       "      <td>Don't let me down, don't let me down Don't let...</td>\n",
       "    </tr>\n",
       "    <tr>\n",
       "      <th>1</th>\n",
       "      <td>I get high when I see you go by My oh my When ...</td>\n",
       "    </tr>\n",
       "    <tr>\n",
       "      <th>2</th>\n",
       "      <td>[All too much!] It's all too much It's all to...</td>\n",
       "    </tr>\n",
       "    <tr>\n",
       "      <th>3</th>\n",
       "      <td>I love you, 'cause you tell me things I want t...</td>\n",
       "    </tr>\n",
       "    <tr>\n",
       "      <th>4</th>\n",
       "      <td>Is there anybody going to listen to my story A...</td>\n",
       "    </tr>\n",
       "  </tbody>\n",
       "</table>\n",
       "</div>"
      ],
      "text/plain": [
       "                                              lyrics\n",
       "0  Don't let me down, don't let me down Don't let...\n",
       "1  I get high when I see you go by My oh my When ...\n",
       "2   [All too much!] It's all too much It's all to...\n",
       "3  I love you, 'cause you tell me things I want t...\n",
       "4  Is there anybody going to listen to my story A..."
      ]
     },
     "execution_count": 11,
     "metadata": {},
     "output_type": "execute_result"
    }
   ],
   "source": [
    "# read in the test set\n",
    "test = pd.read_parquet('Data/testing_lyrics.parquet').reset_index(drop=True)\n",
    "test.head()"
   ]
  },
  {
   "cell_type": "markdown",
   "metadata": {},
   "source": [
    "### Prep the finetuned model\n",
    "We write a function to generate text with our finetuned model"
   ]
  },
  {
   "cell_type": "code",
   "execution_count": 98,
   "metadata": {},
   "outputs": [],
   "source": [
    "def generate_text(model_dir, input_seq, max_length, temp):\n",
    "    '''\n",
    "    Encodes an input sequence and applies the finetuned model to generate predictions.'''\n",
    "    \n",
    "    model = GPT2LMHeadModel.from_pretrained(model_dir)\n",
    "    tokenizer = GPT2Tokenizer.from_pretrained(model_dir)\n",
    "    encoded = tokenizer.encode(f'{input_seq}', return_tensors='pt')\n",
    "    final_outputs = model.generate(encoded,\n",
    "                                do_sample=True,\n",
    "                                max_length = max_length,\n",
    "                                pad_token_id = model.config.eos_token_id,\n",
    "                                top_k = 50,\n",
    "                                top_p =0.95, \n",
    "                                temperature = temp)\n",
    "    generated = tokenizer.decode(final_outputs[0], skip_special_tokens=True)\n",
    "    return(generated)"
   ]
  },
  {
   "cell_type": "markdown",
   "metadata": {},
   "source": [
    "### Create a naive model\n",
    "We instantiate a \"naive\" model, which is the untrained version of GPT-2"
   ]
  },
  {
   "cell_type": "code",
   "execution_count": 9,
   "metadata": {},
   "outputs": [
    {
     "name": "stderr",
     "output_type": "stream",
     "text": [
      "Setting `pad_token_id` to `eos_token_id`:50256 for open-end generation.\n"
     ]
    },
    {
     "data": {
      "text/plain": [
       "'Hello, my name is Liana, I am a twenty-year-old artist who just recently moved to New York. I hope you enjoy the'"
      ]
     },
     "execution_count": 9,
     "metadata": {},
     "output_type": "execute_result"
    }
   ],
   "source": [
    "naive_model = pipeline('text-generation', model='gpt2-medium')\n",
    "\n",
    "# Test out the naive model with a sample prompt\n",
    "naive_model(\"Hello, my name is\", max_length=30, num_return_sequences=1)[0]['generated_text']\n"
   ]
  },
  {
   "cell_type": "markdown",
   "metadata": {},
   "source": [
    "## Generate Predictions\n",
    "We use both the finetuned and naive models to generate predictions on the test set, using the first 50 tokens as input, and generating 200 output tokens. We save predictions to a parquet file, as this is time intensive."
   ]
  },
  {
   "cell_type": "code",
   "execution_count": 17,
   "metadata": {},
   "outputs": [],
   "source": [
    "# test['input'] = test['lyrics'].apply(lambda x: ' '.join(x.split()[:50])) # 50 input tokens\n",
    "# test['tuned_prediction'] = test['input'].apply(lambda input_text: generate_text('saved_model', input_text, 200, temp=.7)) # generate 200 tokens with finetuned model\n",
    "# test['naive_prediction'] = test['input'].apply(lambda input_text: naive_model(input_text, max_length=200, num_return_sequences=1)[0]['generated_text']) # generate 200 tokens with naive model\n",
    "# test.to_parquet('predictions.parquet') # save predictions\n"
   ]
  },
  {
   "cell_type": "code",
   "execution_count": 16,
   "metadata": {},
   "outputs": [
    {
     "data": {
      "text/html": [
       "<div>\n",
       "<style scoped>\n",
       "    .dataframe tbody tr th:only-of-type {\n",
       "        vertical-align: middle;\n",
       "    }\n",
       "\n",
       "    .dataframe tbody tr th {\n",
       "        vertical-align: top;\n",
       "    }\n",
       "\n",
       "    .dataframe thead th {\n",
       "        text-align: right;\n",
       "    }\n",
       "</style>\n",
       "<table border=\"1\" class=\"dataframe\">\n",
       "  <thead>\n",
       "    <tr style=\"text-align: right;\">\n",
       "      <th></th>\n",
       "      <th>lyrics</th>\n",
       "      <th>input</th>\n",
       "      <th>naive_prediction</th>\n",
       "      <th>tuned_prediction</th>\n",
       "      <th>lyrics_end</th>\n",
       "      <th>naive_prediction_end</th>\n",
       "      <th>tuned_prediction_end</th>\n",
       "    </tr>\n",
       "  </thead>\n",
       "  <tbody>\n",
       "    <tr>\n",
       "      <th>0</th>\n",
       "      <td>Don't let me down, don't let me down Don't let...</td>\n",
       "      <td>Don't let me down, don't let me down Don't let...</td>\n",
       "      <td>Don't let me down, don't let me down Don't let...</td>\n",
       "      <td>Don't let me down, don't let me down Don't let...</td>\n",
       "      <td>let me down Don't let me down, don't let me do...</td>\n",
       "      <td>let me down I love you (more and louder) I lov...</td>\n",
       "      <td>let me down Don't let me down, don't let me do...</td>\n",
       "    </tr>\n",
       "    <tr>\n",
       "      <th>1</th>\n",
       "      <td>I get high when I see you go by My oh my When ...</td>\n",
       "      <td>I get high when I see you go by My oh my When ...</td>\n",
       "      <td>I get high when I see you go by My oh my When ...</td>\n",
       "      <td>I get high when I see you go by My oh my When ...</td>\n",
       "      <td>is all But it's so hard loving you Is it right...</td>\n",
       "      <td>all I can do Why is there not more love in you...</td>\n",
       "      <td>is all But it's so hard loving you Is it right...</td>\n",
       "    </tr>\n",
       "    <tr>\n",
       "      <th>2</th>\n",
       "      <td>[All too much!] It's all too much It's all to...</td>\n",
       "      <td>[All too much!] It's all too much It's all too...</td>\n",
       "      <td>[All too much!] It's all too much It's all too...</td>\n",
       "      <td>[All too much!] It's all too much It's all too...</td>\n",
       "      <td>Everywhere, it's what you make For us to take,...</td>\n",
       "      <td>seems to be gone forever Now I'm just another ...</td>\n",
       "      <td>Everywhere, it's what you make For us to take,...</td>\n",
       "    </tr>\n",
       "    <tr>\n",
       "      <th>3</th>\n",
       "      <td>I love you, 'cause you tell me things I want t...</td>\n",
       "      <td>I love you, 'cause you tell me things I want t...</td>\n",
       "      <td>I love you, 'cause you tell me things I want t...</td>\n",
       "      <td>I love you, 'cause you tell me things I want t...</td>\n",
       "      <td>the reason why If I cry, it's not because I'm ...</td>\n",
       "      <td>And never ever forget that I'm my own mother O...</td>\n",
       "      <td>I Would love to love you And to hold you, to l...</td>\n",
       "    </tr>\n",
       "    <tr>\n",
       "      <th>4</th>\n",
       "      <td>Is there anybody going to listen to my story A...</td>\n",
       "      <td>Is there anybody going to listen to my story A...</td>\n",
       "      <td>Is there anybody going to listen to my story A...</td>\n",
       "      <td>Is there anybody going to listen to my story A...</td>\n",
       "      <td>so hard to leave her She will turn to me and s...</td>\n",
       "      <td>to forget. Ah, girl when I think of all the ti...</td>\n",
       "      <td>so hard to leave her She will turn to me and s...</td>\n",
       "    </tr>\n",
       "  </tbody>\n",
       "</table>\n",
       "</div>"
      ],
      "text/plain": [
       "                                              lyrics  \\\n",
       "0  Don't let me down, don't let me down Don't let...   \n",
       "1  I get high when I see you go by My oh my When ...   \n",
       "2   [All too much!] It's all too much It's all to...   \n",
       "3  I love you, 'cause you tell me things I want t...   \n",
       "4  Is there anybody going to listen to my story A...   \n",
       "\n",
       "                                               input  \\\n",
       "0  Don't let me down, don't let me down Don't let...   \n",
       "1  I get high when I see you go by My oh my When ...   \n",
       "2  [All too much!] It's all too much It's all too...   \n",
       "3  I love you, 'cause you tell me things I want t...   \n",
       "4  Is there anybody going to listen to my story A...   \n",
       "\n",
       "                                    naive_prediction  \\\n",
       "0  Don't let me down, don't let me down Don't let...   \n",
       "1  I get high when I see you go by My oh my When ...   \n",
       "2  [All too much!] It's all too much It's all too...   \n",
       "3  I love you, 'cause you tell me things I want t...   \n",
       "4  Is there anybody going to listen to my story A...   \n",
       "\n",
       "                                    tuned_prediction  \\\n",
       "0  Don't let me down, don't let me down Don't let...   \n",
       "1  I get high when I see you go by My oh my When ...   \n",
       "2  [All too much!] It's all too much It's all too...   \n",
       "3  I love you, 'cause you tell me things I want t...   \n",
       "4  Is there anybody going to listen to my story A...   \n",
       "\n",
       "                                          lyrics_end  \\\n",
       "0  let me down Don't let me down, don't let me do...   \n",
       "1  is all But it's so hard loving you Is it right...   \n",
       "2  Everywhere, it's what you make For us to take,...   \n",
       "3  the reason why If I cry, it's not because I'm ...   \n",
       "4  so hard to leave her She will turn to me and s...   \n",
       "\n",
       "                                naive_prediction_end  \\\n",
       "0  let me down I love you (more and louder) I lov...   \n",
       "1  all I can do Why is there not more love in you...   \n",
       "2  seems to be gone forever Now I'm just another ...   \n",
       "3  And never ever forget that I'm my own mother O...   \n",
       "4  to forget. Ah, girl when I think of all the ti...   \n",
       "\n",
       "                                tuned_prediction_end  \n",
       "0  let me down Don't let me down, don't let me do...  \n",
       "1  is all But it's so hard loving you Is it right...  \n",
       "2  Everywhere, it's what you make For us to take,...  \n",
       "3  I Would love to love you And to hold you, to l...  \n",
       "4  so hard to leave her She will turn to me and s...  "
      ]
     },
     "execution_count": 16,
     "metadata": {},
     "output_type": "execute_result"
    }
   ],
   "source": [
    "# inspect the predictions generated in previous cell\n",
    "preds = pd.read_parquet('Data/predictions.parquet') \n",
    "preds['lyrics_end'] = preds['lyrics'].apply(lambda x: ' '.join(x.split()[50:150])) # 100 tokens\n",
    "preds['naive_prediction_end'] = preds['naive_prediction'].apply(lambda x: ' '.join(x.split()[50:150])) # 100 tokens\n",
    "preds['tuned_prediction_end'] = preds['tuned_prediction'].apply(lambda x: ' '.join(x.split()[50:150])) # 100 tokens\n",
    "preds.head()"
   ]
  },
  {
   "cell_type": "markdown",
   "metadata": {},
   "source": [
    "# Evaluation\n",
    "We use several methods to assess the quality of generated predictions, and compare them to those of a naive model."
   ]
  },
  {
   "cell_type": "code",
   "execution_count": 18,
   "metadata": {},
   "outputs": [
    {
     "name": "stdout",
     "output_type": "stream",
     "text": [
      "Model Input:\n",
      " I'm looking through you, where did you go? I thought I knew you, what did I know? You don't look different, but you have changed I'm looking through you, you're not the same Your lips are moving, I cannot hear Your voice is soothing, but the words aren't clear You \n",
      "\n",
      "Actual Lyrics:\n",
      " don't sound different, I've learned the game I'm looking through you, you're not the same Why, tell me why, did you not treat me right? Love has a nasty habit of disappearing overnight You're thinking of me, the same old way You were above me, but not today The only difference is you're down there I'm looking through you, and you're nowhere Why, tell me why, did you not treat me right? Love has a nasty habit of disappearing overnight I'm looking through you, where did you go I thought I knew you, what did I know You don't look \n",
      "\n",
      "Naive Model Predictions:\n",
      " are not smiling and I don't think I can see Your lips are moving, I cannot hear My ears hear whispers, I cannot find you You, your eyes are bright and shining, the sound echoes, You are not the same My skin is soft and warm you're not the same You, your hands are smooth and beautiful you're not the same You, your face is gentle, you're not the same You, your hands are silky and radiant you're not the same Your voice is soft and sweet and gentle You are not the same Your eyes are bright and golden \n",
      "\n",
      "Finetuned Model Predictions:\n",
      " don't sound different, I've learned the game I'm looking through you, you're not the same Why, tell me why, did you not treat me right? Love has a nasty habit of disappearing overnight You're thinking of me, the same old way You were above me, but not today The only difference is you're down there I'm looking through you, where did you go? I thought I knew you, what did I know? You don't look different, but you have changed I'm looking through you, you're not the same Why, tell me why, did you not treat me right? Love has\n"
     ]
    }
   ],
   "source": [
    "# Visually inspect predictions for one of the test songs\n",
    "i = 10 # pick a random song\n",
    "print(\"Model Input:\\n\",preds['input'][i],'\\n')\n",
    "print(\"Actual Lyrics:\\n\",preds['lyrics_end'][i],'\\n')\n",
    "print(\"Naive Model Predictions:\\n\",preds['naive_prediction_end'][i],'\\n')\n",
    "print(\"Finetuned Model Predictions:\\n\",preds['tuned_prediction_end'][i])"
   ]
  },
  {
   "cell_type": "markdown",
   "metadata": {},
   "source": [
    "## BLEU Score\n",
    "We compare model predictions to a song's actual lyrics, and compute a BLEU score to quantify how similar the generated text is to the actual text. Two identical texts will yield a BLEU score of 1, so a high BLEU score indicates that our model has \"learned\" during the finetuning process."
   ]
  },
  {
   "cell_type": "code",
   "execution_count": 19,
   "metadata": {},
   "outputs": [],
   "source": [
    "def tokenize(string):\n",
    "    '''Removes puntuation from a string and separates it into a list of tokens'''\n",
    "    return(string.lower().replace(',','').replace('(','').replace(')','').replace(\"?\",'').split(' '))"
   ]
  },
  {
   "cell_type": "code",
   "execution_count": 20,
   "metadata": {},
   "outputs": [
    {
     "name": "stderr",
     "output_type": "stream",
     "text": [
      "/opt/conda/lib/python3.7/site-packages/nltk/translate/bleu_score.py:552: UserWarning: \n",
      "The hypothesis contains 0 counts of 4-gram overlaps.\n",
      "Therefore the BLEU score evaluates to 0, independently of\n",
      "how many N-gram overlaps of lower order it contains.\n",
      "Consider using lower n-gram order or use SmoothingFunction()\n",
      "  warnings.warn(_msg)\n",
      "/opt/conda/lib/python3.7/site-packages/nltk/translate/bleu_score.py:552: UserWarning: \n",
      "The hypothesis contains 0 counts of 3-gram overlaps.\n",
      "Therefore the BLEU score evaluates to 0, independently of\n",
      "how many N-gram overlaps of lower order it contains.\n",
      "Consider using lower n-gram order or use SmoothingFunction()\n",
      "  warnings.warn(_msg)\n",
      "/opt/conda/lib/python3.7/site-packages/nltk/translate/bleu_score.py:552: UserWarning: \n",
      "The hypothesis contains 0 counts of 2-gram overlaps.\n",
      "Therefore the BLEU score evaluates to 0, independently of\n",
      "how many N-gram overlaps of lower order it contains.\n",
      "Consider using lower n-gram order or use SmoothingFunction()\n",
      "  warnings.warn(_msg)\n"
     ]
    },
    {
     "data": {
      "text/html": [
       "<div>\n",
       "<style scoped>\n",
       "    .dataframe tbody tr th:only-of-type {\n",
       "        vertical-align: middle;\n",
       "    }\n",
       "\n",
       "    .dataframe tbody tr th {\n",
       "        vertical-align: top;\n",
       "    }\n",
       "\n",
       "    .dataframe thead th {\n",
       "        text-align: right;\n",
       "    }\n",
       "</style>\n",
       "<table border=\"1\" class=\"dataframe\">\n",
       "  <thead>\n",
       "    <tr style=\"text-align: right;\">\n",
       "      <th></th>\n",
       "      <th>tuned</th>\n",
       "      <th>naive</th>\n",
       "    </tr>\n",
       "  </thead>\n",
       "  <tbody>\n",
       "    <tr>\n",
       "      <th>0</th>\n",
       "      <td>3.101452e-01</td>\n",
       "      <td>8.428038e-79</td>\n",
       "    </tr>\n",
       "    <tr>\n",
       "      <th>1</th>\n",
       "      <td>5.232767e-01</td>\n",
       "      <td>6.934361e-02</td>\n",
       "    </tr>\n",
       "    <tr>\n",
       "      <th>2</th>\n",
       "      <td>2.414355e-01</td>\n",
       "      <td>3.274880e-155</td>\n",
       "    </tr>\n",
       "    <tr>\n",
       "      <th>3</th>\n",
       "      <td>1.662015e-01</td>\n",
       "      <td>1.531700e-78</td>\n",
       "    </tr>\n",
       "    <tr>\n",
       "      <th>4</th>\n",
       "      <td>2.016222e-01</td>\n",
       "      <td>4.934581e-02</td>\n",
       "    </tr>\n",
       "    <tr>\n",
       "      <th>5</th>\n",
       "      <td>5.179828e-01</td>\n",
       "      <td>3.799095e-155</td>\n",
       "    </tr>\n",
       "    <tr>\n",
       "      <th>6</th>\n",
       "      <td>8.766711e-01</td>\n",
       "      <td>3.655267e-02</td>\n",
       "    </tr>\n",
       "    <tr>\n",
       "      <th>7</th>\n",
       "      <td>9.156388e-02</td>\n",
       "      <td>5.323806e-02</td>\n",
       "    </tr>\n",
       "    <tr>\n",
       "      <th>8</th>\n",
       "      <td>4.236070e-01</td>\n",
       "      <td>1.805356e-155</td>\n",
       "    </tr>\n",
       "    <tr>\n",
       "      <th>9</th>\n",
       "      <td>1.797662e-01</td>\n",
       "      <td>1.169824e-231</td>\n",
       "    </tr>\n",
       "    <tr>\n",
       "      <th>10</th>\n",
       "      <td>8.799694e-01</td>\n",
       "      <td>3.927840e-02</td>\n",
       "    </tr>\n",
       "    <tr>\n",
       "      <th>11</th>\n",
       "      <td>2.019945e-01</td>\n",
       "      <td>4.717069e-155</td>\n",
       "    </tr>\n",
       "    <tr>\n",
       "      <th>12</th>\n",
       "      <td>4.135737e-01</td>\n",
       "      <td>1.392888e-01</td>\n",
       "    </tr>\n",
       "    <tr>\n",
       "      <th>13</th>\n",
       "      <td>1.518598e-01</td>\n",
       "      <td>1.451904e-01</td>\n",
       "    </tr>\n",
       "    <tr>\n",
       "      <th>14</th>\n",
       "      <td>2.223209e-01</td>\n",
       "      <td>1.275150e-231</td>\n",
       "    </tr>\n",
       "    <tr>\n",
       "      <th>15</th>\n",
       "      <td>5.938384e-01</td>\n",
       "      <td>1.199765e-231</td>\n",
       "    </tr>\n",
       "    <tr>\n",
       "      <th>16</th>\n",
       "      <td>5.204235e-01</td>\n",
       "      <td>3.343863e-155</td>\n",
       "    </tr>\n",
       "    <tr>\n",
       "      <th>17</th>\n",
       "      <td>6.667073e-01</td>\n",
       "      <td>7.437721e-02</td>\n",
       "    </tr>\n",
       "    <tr>\n",
       "      <th>18</th>\n",
       "      <td>7.295586e-01</td>\n",
       "      <td>7.783067e-79</td>\n",
       "    </tr>\n",
       "    <tr>\n",
       "      <th>19</th>\n",
       "      <td>3.205001e-01</td>\n",
       "      <td>4.090821e-155</td>\n",
       "    </tr>\n",
       "    <tr>\n",
       "      <th>20</th>\n",
       "      <td>7.408166e-01</td>\n",
       "      <td>8.242530e-02</td>\n",
       "    </tr>\n",
       "    <tr>\n",
       "      <th>21</th>\n",
       "      <td>2.915968e-01</td>\n",
       "      <td>1.289739e-01</td>\n",
       "    </tr>\n",
       "    <tr>\n",
       "      <th>22</th>\n",
       "      <td>7.911874e-01</td>\n",
       "      <td>3.760784e-155</td>\n",
       "    </tr>\n",
       "    <tr>\n",
       "      <th>23</th>\n",
       "      <td>4.974525e-01</td>\n",
       "      <td>3.343863e-155</td>\n",
       "    </tr>\n",
       "    <tr>\n",
       "      <th>24</th>\n",
       "      <td>1.635533e-78</td>\n",
       "      <td>1.247711e-231</td>\n",
       "    </tr>\n",
       "    <tr>\n",
       "      <th>25</th>\n",
       "      <td>7.863875e-01</td>\n",
       "      <td>3.309910e-155</td>\n",
       "    </tr>\n",
       "    <tr>\n",
       "      <th>26</th>\n",
       "      <td>1.093180e-01</td>\n",
       "      <td>1.114398e-231</td>\n",
       "    </tr>\n",
       "    <tr>\n",
       "      <th>27</th>\n",
       "      <td>6.013987e-01</td>\n",
       "      <td>1.384047e-78</td>\n",
       "    </tr>\n",
       "    <tr>\n",
       "      <th>28</th>\n",
       "      <td>1.250871e-01</td>\n",
       "      <td>4.527237e-155</td>\n",
       "    </tr>\n",
       "    <tr>\n",
       "      <th>29</th>\n",
       "      <td>6.596711e-01</td>\n",
       "      <td>4.527237e-155</td>\n",
       "    </tr>\n",
       "    <tr>\n",
       "      <th>30</th>\n",
       "      <td>2.723401e-155</td>\n",
       "      <td>3.556730e-155</td>\n",
       "    </tr>\n",
       "    <tr>\n",
       "      <th>31</th>\n",
       "      <td>6.504999e-01</td>\n",
       "      <td>4.276793e-01</td>\n",
       "    </tr>\n",
       "    <tr>\n",
       "      <th>32</th>\n",
       "      <td>4.495038e-01</td>\n",
       "      <td>4.864833e-155</td>\n",
       "    </tr>\n",
       "    <tr>\n",
       "      <th>33</th>\n",
       "      <td>4.734644e-01</td>\n",
       "      <td>8.659578e-02</td>\n",
       "    </tr>\n",
       "  </tbody>\n",
       "</table>\n",
       "</div>"
      ],
      "text/plain": [
       "            tuned          naive\n",
       "0    3.101452e-01   8.428038e-79\n",
       "1    5.232767e-01   6.934361e-02\n",
       "2    2.414355e-01  3.274880e-155\n",
       "3    1.662015e-01   1.531700e-78\n",
       "4    2.016222e-01   4.934581e-02\n",
       "5    5.179828e-01  3.799095e-155\n",
       "6    8.766711e-01   3.655267e-02\n",
       "7    9.156388e-02   5.323806e-02\n",
       "8    4.236070e-01  1.805356e-155\n",
       "9    1.797662e-01  1.169824e-231\n",
       "10   8.799694e-01   3.927840e-02\n",
       "11   2.019945e-01  4.717069e-155\n",
       "12   4.135737e-01   1.392888e-01\n",
       "13   1.518598e-01   1.451904e-01\n",
       "14   2.223209e-01  1.275150e-231\n",
       "15   5.938384e-01  1.199765e-231\n",
       "16   5.204235e-01  3.343863e-155\n",
       "17   6.667073e-01   7.437721e-02\n",
       "18   7.295586e-01   7.783067e-79\n",
       "19   3.205001e-01  4.090821e-155\n",
       "20   7.408166e-01   8.242530e-02\n",
       "21   2.915968e-01   1.289739e-01\n",
       "22   7.911874e-01  3.760784e-155\n",
       "23   4.974525e-01  3.343863e-155\n",
       "24   1.635533e-78  1.247711e-231\n",
       "25   7.863875e-01  3.309910e-155\n",
       "26   1.093180e-01  1.114398e-231\n",
       "27   6.013987e-01   1.384047e-78\n",
       "28   1.250871e-01  4.527237e-155\n",
       "29   6.596711e-01  4.527237e-155\n",
       "30  2.723401e-155  3.556730e-155\n",
       "31   6.504999e-01   4.276793e-01\n",
       "32   4.495038e-01  4.864833e-155\n",
       "33   4.734644e-01   8.659578e-02"
      ]
     },
     "execution_count": 20,
     "metadata": {},
     "output_type": "execute_result"
    }
   ],
   "source": [
    "# Calculate blue scores between predicted lyrics and actual lyrics\n",
    "tuned_scores=[]\n",
    "for i in range(len(preds)): # iterate through each test song\n",
    "    reference = [tokenize(preds['lyrics_end'][i])] # list of actual lyrics\n",
    "    candidate = tokenize(preds['tuned_prediction_end'][i]) # list of tuned-model-predicted lyrics\n",
    "    tuned_scores.append(sentence_bleu(reference, candidate))\n",
    "# put scores in a pandas dataframe\n",
    "bleu_scores = pd.DataFrame(tuned_scores).rename(columns={0:'tuned'})\n",
    "\n",
    "naive_scores=[]\n",
    "for i in range(len(preds)):\n",
    "    reference = [tokenize(preds['lyrics_end'][i])]\n",
    "    candidate = tokenize(preds['naive_prediction_end'][i]) # list of naive-model-predicted lyrics\n",
    "    naive_scores.append(sentence_bleu(reference, candidate))\n",
    "\n",
    "# add naive scores to dataframe\n",
    "bleu_scores['naive'] = naive_scores\n",
    "bleu_scores"
   ]
  },
  {
   "cell_type": "code",
   "execution_count": 21,
   "metadata": {},
   "outputs": [
    {
     "name": "stdout",
     "output_type": "stream",
     "text": [
      "Average BLEU for tuned model predictions: 0.42380594791026766\n",
      "Average BLEU for naive model predictions: 0.03918497577015541\n"
     ]
    }
   ],
   "source": [
    "# calculate the average bleu score for each model\n",
    "print('Average BLEU for tuned model predictions:',bleu_scores.tuned.mean())\n",
    "print('Average BLEU for naive model predictions:',bleu_scores.naive.mean())"
   ]
  },
  {
   "cell_type": "markdown",
   "metadata": {},
   "source": [
    "We observe that the tuned model yields a higher BLEU score, and therefore generated predictions that are more similar to the actual song lyrics than the naive model.\n",
    "## Parts of Speech\n",
    "We inspect the frequency of different parts of speech for each prediction set to determine how it compares to the original lyrics. If our model has learned sufficiently, we should see a part-of-speech distribution in our predicted lyrics that is very similar to that of the actual lyrics."
   ]
  },
  {
   "cell_type": "code",
   "execution_count": 22,
   "metadata": {},
   "outputs": [
    {
     "data": {
      "text/html": [
       "<div>\n",
       "<style scoped>\n",
       "    .dataframe tbody tr th:only-of-type {\n",
       "        vertical-align: middle;\n",
       "    }\n",
       "\n",
       "    .dataframe tbody tr th {\n",
       "        vertical-align: top;\n",
       "    }\n",
       "\n",
       "    .dataframe thead th {\n",
       "        text-align: right;\n",
       "    }\n",
       "</style>\n",
       "<table border=\"1\" class=\"dataframe\">\n",
       "  <thead>\n",
       "    <tr style=\"text-align: right;\">\n",
       "      <th></th>\n",
       "      <th>input</th>\n",
       "      <th>lyrics_end</th>\n",
       "      <th>naive_prediction_end</th>\n",
       "      <th>tuned_prediction_end</th>\n",
       "    </tr>\n",
       "  </thead>\n",
       "  <tbody>\n",
       "    <tr>\n",
       "      <th>0</th>\n",
       "      <td>Don't let me down, don't let me down Don't let...</td>\n",
       "      <td>let me down Don't let me down, don't let me do...</td>\n",
       "      <td>let me down I love you (more and louder) I lov...</td>\n",
       "      <td>let me down Don't let me down, don't let me do...</td>\n",
       "    </tr>\n",
       "    <tr>\n",
       "      <th>1</th>\n",
       "      <td>I get high when I see you go by My oh my When ...</td>\n",
       "      <td>is all But it's so hard loving you Is it right...</td>\n",
       "      <td>all I can do Why is there not more love in you...</td>\n",
       "      <td>is all But it's so hard loving you Is it right...</td>\n",
       "    </tr>\n",
       "    <tr>\n",
       "      <th>2</th>\n",
       "      <td>[All too much!] It's all too much It's all too...</td>\n",
       "      <td>Everywhere, it's what you make For us to take,...</td>\n",
       "      <td>seems to be gone forever Now I'm just another ...</td>\n",
       "      <td>Everywhere, it's what you make For us to take,...</td>\n",
       "    </tr>\n",
       "    <tr>\n",
       "      <th>3</th>\n",
       "      <td>I love you, 'cause you tell me things I want t...</td>\n",
       "      <td>the reason why If I cry, it's not because I'm ...</td>\n",
       "      <td>And never ever forget that I'm my own mother O...</td>\n",
       "      <td>I Would love to love you And to hold you, to l...</td>\n",
       "    </tr>\n",
       "    <tr>\n",
       "      <th>4</th>\n",
       "      <td>Is there anybody going to listen to my story A...</td>\n",
       "      <td>so hard to leave her She will turn to me and s...</td>\n",
       "      <td>to forget. Ah, girl when I think of all the ti...</td>\n",
       "      <td>so hard to leave her She will turn to me and s...</td>\n",
       "    </tr>\n",
       "  </tbody>\n",
       "</table>\n",
       "</div>"
      ],
      "text/plain": [
       "                                               input  \\\n",
       "0  Don't let me down, don't let me down Don't let...   \n",
       "1  I get high when I see you go by My oh my When ...   \n",
       "2  [All too much!] It's all too much It's all too...   \n",
       "3  I love you, 'cause you tell me things I want t...   \n",
       "4  Is there anybody going to listen to my story A...   \n",
       "\n",
       "                                          lyrics_end  \\\n",
       "0  let me down Don't let me down, don't let me do...   \n",
       "1  is all But it's so hard loving you Is it right...   \n",
       "2  Everywhere, it's what you make For us to take,...   \n",
       "3  the reason why If I cry, it's not because I'm ...   \n",
       "4  so hard to leave her She will turn to me and s...   \n",
       "\n",
       "                                naive_prediction_end  \\\n",
       "0  let me down I love you (more and louder) I lov...   \n",
       "1  all I can do Why is there not more love in you...   \n",
       "2  seems to be gone forever Now I'm just another ...   \n",
       "3  And never ever forget that I'm my own mother O...   \n",
       "4  to forget. Ah, girl when I think of all the ti...   \n",
       "\n",
       "                                tuned_prediction_end  \n",
       "0  let me down Don't let me down, don't let me do...  \n",
       "1  is all But it's so hard loving you Is it right...  \n",
       "2  Everywhere, it's what you make For us to take,...  \n",
       "3  I Would love to love you And to hold you, to l...  \n",
       "4  so hard to leave her She will turn to me and s...  "
      ]
     },
     "execution_count": 22,
     "metadata": {},
     "output_type": "execute_result"
    }
   ],
   "source": [
    "# inspect our predictions\n",
    "preds[['input', 'lyrics_end', 'naive_prediction_end','tuned_prediction_end']].head()"
   ]
  },
  {
   "cell_type": "code",
   "execution_count": 23,
   "metadata": {},
   "outputs": [],
   "source": [
    "# concatenate all test set lyrics into a single string\n",
    "all_tuned_preds_str = ' '.join(list(preds.tuned_prediction_end.str.lower()))\n",
    "all_naive_preds_str = ' '.join(list(preds.naive_prediction_end.str.lower()))\n",
    "all_actual_str = ' '.join(list(preds.lyrics_end.str.lower()))\n"
   ]
  },
  {
   "cell_type": "code",
   "execution_count": 26,
   "metadata": {},
   "outputs": [
    {
     "data": {
      "text/plain": [
       "{'VB': 304,\n",
       " 'PRP': 276,\n",
       " 'RP': 19,\n",
       " 'RB': 257,\n",
       " 'VBP': 261,\n",
       " 'RBR': 5,\n",
       " 'CC': 121,\n",
       " 'JJ': 301,\n",
       " 'DT': 223,\n",
       " 'NNS': 68,\n",
       " 'MD': 35,\n",
       " 'WRB': 41,\n",
       " 'VBZ': 79,\n",
       " 'NN': 600,\n",
       " 'IN': 270,\n",
       " 'WP': 23,\n",
       " 'TO': 94,\n",
       " 'PRP$': 129,\n",
       " 'VBG': 53,\n",
       " 'VBN': 40,\n",
       " 'VBD': 83,\n",
       " 'PDT': 10,\n",
       " 'CD': 9,\n",
       " 'FW': 10,\n",
       " 'WDT': 9,\n",
       " 'SYM': 1,\n",
       " ':': 3,\n",
       " 'NNP': 5,\n",
       " 'JJR': 7,\n",
       " 'UH': 4,\n",
       " 'JJS': 3,\n",
       " 'EX': 1}"
      ]
     },
     "execution_count": 26,
     "metadata": {},
     "output_type": "execute_result"
    }
   ],
   "source": [
    "# tokenize all test set lyrics and calculate POS frequencies for each model\n",
    "# actual lyrics\n",
    "tokens = tokenize(all_actual_str)\n",
    "pos = nltk.pos_tag(tokens) # tag each token with its POS\n",
    "actual_counts={}\n",
    "for word, tag in pos:\n",
    "    if tag in actual_counts:\n",
    "        actual_counts[tag]+=1\n",
    "    else:\n",
    "        actual_counts[tag]=1\n",
    "\n",
    "# tuned model predictions\n",
    "tokens = tokenize(all_tuned_preds_str)\n",
    "pos = nltk.pos_tag(tokens)\n",
    "tuned_pred_counts={}\n",
    "for word, tag in pos:\n",
    "    if tag in tuned_pred_counts:\n",
    "        tuned_pred_counts[tag]+=1\n",
    "    else:\n",
    "        tuned_pred_counts[tag]=1\n",
    "\n",
    "# naive model predictions\n",
    "tokens = tokenize(all_naive_preds_str)\n",
    "pos = nltk.pos_tag(tokens)\n",
    "naive_pred_counts={}\n",
    "for word, tag in pos:\n",
    "    if tag in naive_pred_counts:\n",
    "        naive_pred_counts[tag]+=1\n",
    "    else:\n",
    "        naive_pred_counts[tag]=1\n",
    "        \n",
    "naive_pred_counts # inspect one of the dictionaries"
   ]
  },
  {
   "cell_type": "code",
   "execution_count": 25,
   "metadata": {},
   "outputs": [
    {
     "data": {
      "text/html": [
       "<div>\n",
       "<style scoped>\n",
       "    .dataframe tbody tr th:only-of-type {\n",
       "        vertical-align: middle;\n",
       "    }\n",
       "\n",
       "    .dataframe tbody tr th {\n",
       "        vertical-align: top;\n",
       "    }\n",
       "\n",
       "    .dataframe thead th {\n",
       "        text-align: right;\n",
       "    }\n",
       "</style>\n",
       "<table border=\"1\" class=\"dataframe\">\n",
       "  <thead>\n",
       "    <tr style=\"text-align: right;\">\n",
       "      <th></th>\n",
       "      <th>actual</th>\n",
       "      <th>tuned_prediction</th>\n",
       "      <th>naive_prediction</th>\n",
       "    </tr>\n",
       "  </thead>\n",
       "  <tbody>\n",
       "    <tr>\n",
       "      <th>NN</th>\n",
       "      <td>653.0</td>\n",
       "      <td>679.0</td>\n",
       "      <td>600.0</td>\n",
       "    </tr>\n",
       "    <tr>\n",
       "      <th>VB</th>\n",
       "      <td>300.0</td>\n",
       "      <td>288.0</td>\n",
       "      <td>304.0</td>\n",
       "    </tr>\n",
       "    <tr>\n",
       "      <th>PRP</th>\n",
       "      <td>293.0</td>\n",
       "      <td>329.0</td>\n",
       "      <td>276.0</td>\n",
       "    </tr>\n",
       "    <tr>\n",
       "      <th>JJ</th>\n",
       "      <td>273.0</td>\n",
       "      <td>271.0</td>\n",
       "      <td>301.0</td>\n",
       "    </tr>\n",
       "    <tr>\n",
       "      <th>IN</th>\n",
       "      <td>245.0</td>\n",
       "      <td>267.0</td>\n",
       "      <td>270.0</td>\n",
       "    </tr>\n",
       "    <tr>\n",
       "      <th>VBP</th>\n",
       "      <td>244.0</td>\n",
       "      <td>232.0</td>\n",
       "      <td>261.0</td>\n",
       "    </tr>\n",
       "    <tr>\n",
       "      <th>RB</th>\n",
       "      <td>230.0</td>\n",
       "      <td>239.0</td>\n",
       "      <td>257.0</td>\n",
       "    </tr>\n",
       "    <tr>\n",
       "      <th>DT</th>\n",
       "      <td>209.0</td>\n",
       "      <td>230.0</td>\n",
       "      <td>223.0</td>\n",
       "    </tr>\n",
       "    <tr>\n",
       "      <th>PRP$</th>\n",
       "      <td>115.0</td>\n",
       "      <td>106.0</td>\n",
       "      <td>129.0</td>\n",
       "    </tr>\n",
       "    <tr>\n",
       "      <th>CC</th>\n",
       "      <td>110.0</td>\n",
       "      <td>110.0</td>\n",
       "      <td>121.0</td>\n",
       "    </tr>\n",
       "    <tr>\n",
       "      <th>VBD</th>\n",
       "      <td>100.0</td>\n",
       "      <td>97.0</td>\n",
       "      <td>83.0</td>\n",
       "    </tr>\n",
       "    <tr>\n",
       "      <th>NNS</th>\n",
       "      <td>80.0</td>\n",
       "      <td>75.0</td>\n",
       "      <td>68.0</td>\n",
       "    </tr>\n",
       "    <tr>\n",
       "      <th>VBZ</th>\n",
       "      <td>77.0</td>\n",
       "      <td>81.0</td>\n",
       "      <td>79.0</td>\n",
       "    </tr>\n",
       "    <tr>\n",
       "      <th>TO</th>\n",
       "      <td>68.0</td>\n",
       "      <td>61.0</td>\n",
       "      <td>94.0</td>\n",
       "    </tr>\n",
       "    <tr>\n",
       "      <th>VBG</th>\n",
       "      <td>56.0</td>\n",
       "      <td>61.0</td>\n",
       "      <td>53.0</td>\n",
       "    </tr>\n",
       "    <tr>\n",
       "      <th>MD</th>\n",
       "      <td>43.0</td>\n",
       "      <td>58.0</td>\n",
       "      <td>35.0</td>\n",
       "    </tr>\n",
       "    <tr>\n",
       "      <th>WRB</th>\n",
       "      <td>42.0</td>\n",
       "      <td>55.0</td>\n",
       "      <td>41.0</td>\n",
       "    </tr>\n",
       "    <tr>\n",
       "      <th>VBN</th>\n",
       "      <td>41.0</td>\n",
       "      <td>37.0</td>\n",
       "      <td>40.0</td>\n",
       "    </tr>\n",
       "    <tr>\n",
       "      <th>RP</th>\n",
       "      <td>25.0</td>\n",
       "      <td>30.0</td>\n",
       "      <td>19.0</td>\n",
       "    </tr>\n",
       "    <tr>\n",
       "      <th>WP</th>\n",
       "      <td>19.0</td>\n",
       "      <td>8.0</td>\n",
       "      <td>23.0</td>\n",
       "    </tr>\n",
       "    <tr>\n",
       "      <th>CD</th>\n",
       "      <td>14.0</td>\n",
       "      <td>11.0</td>\n",
       "      <td>9.0</td>\n",
       "    </tr>\n",
       "    <tr>\n",
       "      <th>JJR</th>\n",
       "      <td>13.0</td>\n",
       "      <td>12.0</td>\n",
       "      <td>7.0</td>\n",
       "    </tr>\n",
       "    <tr>\n",
       "      <th>WDT</th>\n",
       "      <td>11.0</td>\n",
       "      <td>12.0</td>\n",
       "      <td>9.0</td>\n",
       "    </tr>\n",
       "    <tr>\n",
       "      <th>PDT</th>\n",
       "      <td>8.0</td>\n",
       "      <td>9.0</td>\n",
       "      <td>10.0</td>\n",
       "    </tr>\n",
       "    <tr>\n",
       "      <th>UH</th>\n",
       "      <td>7.0</td>\n",
       "      <td>7.0</td>\n",
       "      <td>4.0</td>\n",
       "    </tr>\n",
       "    <tr>\n",
       "      <th>FW</th>\n",
       "      <td>6.0</td>\n",
       "      <td>24.0</td>\n",
       "      <td>10.0</td>\n",
       "    </tr>\n",
       "    <tr>\n",
       "      <th>EX</th>\n",
       "      <td>5.0</td>\n",
       "      <td>3.0</td>\n",
       "      <td>1.0</td>\n",
       "    </tr>\n",
       "    <tr>\n",
       "      <th>RBR</th>\n",
       "      <td>4.0</td>\n",
       "      <td>3.0</td>\n",
       "      <td>5.0</td>\n",
       "    </tr>\n",
       "    <tr>\n",
       "      <th>NNP</th>\n",
       "      <td>4.0</td>\n",
       "      <td>4.0</td>\n",
       "      <td>5.0</td>\n",
       "    </tr>\n",
       "    <tr>\n",
       "      <th>POS</th>\n",
       "      <td>1.0</td>\n",
       "      <td>NaN</td>\n",
       "      <td>NaN</td>\n",
       "    </tr>\n",
       "    <tr>\n",
       "      <th>JJS</th>\n",
       "      <td>NaN</td>\n",
       "      <td>1.0</td>\n",
       "      <td>3.0</td>\n",
       "    </tr>\n",
       "    <tr>\n",
       "      <th>SYM</th>\n",
       "      <td>NaN</td>\n",
       "      <td>NaN</td>\n",
       "      <td>1.0</td>\n",
       "    </tr>\n",
       "    <tr>\n",
       "      <th>:</th>\n",
       "      <td>NaN</td>\n",
       "      <td>NaN</td>\n",
       "      <td>3.0</td>\n",
       "    </tr>\n",
       "  </tbody>\n",
       "</table>\n",
       "</div>"
      ],
      "text/plain": [
       "      actual  tuned_prediction  naive_prediction\n",
       "NN     653.0             679.0             600.0\n",
       "VB     300.0             288.0             304.0\n",
       "PRP    293.0             329.0             276.0\n",
       "JJ     273.0             271.0             301.0\n",
       "IN     245.0             267.0             270.0\n",
       "VBP    244.0             232.0             261.0\n",
       "RB     230.0             239.0             257.0\n",
       "DT     209.0             230.0             223.0\n",
       "PRP$   115.0             106.0             129.0\n",
       "CC     110.0             110.0             121.0\n",
       "VBD    100.0              97.0              83.0\n",
       "NNS     80.0              75.0              68.0\n",
       "VBZ     77.0              81.0              79.0\n",
       "TO      68.0              61.0              94.0\n",
       "VBG     56.0              61.0              53.0\n",
       "MD      43.0              58.0              35.0\n",
       "WRB     42.0              55.0              41.0\n",
       "VBN     41.0              37.0              40.0\n",
       "RP      25.0              30.0              19.0\n",
       "WP      19.0               8.0              23.0\n",
       "CD      14.0              11.0               9.0\n",
       "JJR     13.0              12.0               7.0\n",
       "WDT     11.0              12.0               9.0\n",
       "PDT      8.0               9.0              10.0\n",
       "UH       7.0               7.0               4.0\n",
       "FW       6.0              24.0              10.0\n",
       "EX       5.0               3.0               1.0\n",
       "RBR      4.0               3.0               5.0\n",
       "NNP      4.0               4.0               5.0\n",
       "POS      1.0               NaN               NaN\n",
       "JJS      NaN               1.0               3.0\n",
       "SYM      NaN               NaN               1.0\n",
       ":        NaN               NaN               3.0"
      ]
     },
     "execution_count": 25,
     "metadata": {},
     "output_type": "execute_result"
    }
   ],
   "source": [
    "# inspect the part of speech frequencies in a dataframe\n",
    "pos_dist = pd.concat([pd.Series(actual_counts),pd.Series(tuned_pred_counts),pd.Series(naive_pred_counts)],axis=1).rename(columns={0:'actual', 1:'tuned_prediction', 2:'naive_prediction'}).sort_values('actual',ascending=False)\n",
    "pos_dist"
   ]
  },
  {
   "cell_type": "code",
   "execution_count": 90,
   "metadata": {},
   "outputs": [
    {
     "data": {
      "image/png": "[encoded data removed]",
      "text/plain": [
       "<Figure size 1200x600 with 1 Axes>"
      ]
     },
     "metadata": {},
     "output_type": "display_data"
    }
   ],
   "source": [
    "# visualize the pos distribution for each model alongside original lyrics\n",
    "ind = np.arange(len(pos_dist))\n",
    "width = .3\n",
    "plt.figure(figsize=[12,6])\n",
    "plt.bar(ind+.5*width, pos_dist.tuned_prediction, .3, label='Tuned Predicted Lyrics', color='teal')\n",
    "plt.bar(ind-.5*width, pos_dist.naive_prediction, .3, label='Naive Predicted Lyrics', color='orange')\n",
    "plt.bar(ind+1.5*width, pos_dist.actual, .3, label='Original Lyrics', color='purple')\n",
    "plt.xticks(rotation=55)\n",
    "plt.legend()\n",
    "plt.title(\"Part of Speech Distribution of Lyrics\")\n",
    "plt.xlabel('Part of Speech')\n",
    "plt.ylabel('Word Count')\n",
    "plt.xticks(ind + width/2 , (pos_dist.index),rotation=55)\n",
    "plt.tick_params(axis='x', which='major', labelsize=12)\n",
    "plt.show()"
   ]
  },
  {
   "cell_type": "markdown",
   "metadata": {},
   "source": [
    "We observe that part-of-speech distribution is very similar between our tuned model and the original lyrics. However, this is also the case for the naive model, so this does not provide us with information on how well our model learned through finetuning.\n",
    "## Count Frequency\n",
    "We calculate the word frequencies of different words within the generated lyrics to determine which words are most popular. If our model has learned the style of Beatles lyrics through finetuning, we expect to see similar words in our most frequent words of the tuned model and the actual lyrics."
   ]
  },
  {
   "cell_type": "code",
   "execution_count": 34,
   "metadata": {},
   "outputs": [],
   "source": [
    "# make a list of stopwords\n",
    "nltk_stop_words = list(stopwords.words('english'))\n",
    "stop_words = list(get_stop_words('en'))\n",
    "stop_words.extend(nltk_stop_words)\n",
    "\n",
    "# remove all stopwords from the predicted/actual lyrics\n",
    "all_actual_str_no_stop = [w for w in tokenize(all_actual_str) if not w in stop_words]\n",
    "all_naive_preds_str_no_stop = [w for w in tokenize(all_naive_preds_str) if not w in stop_words]\n",
    "all_tuned_preds_str_no_stop = [w for w in tokenize(all_tuned_preds_str) if not w in stop_words]\n"
   ]
  },
  {
   "cell_type": "code",
   "execution_count": 35,
   "metadata": {},
   "outputs": [
    {
     "name": "stdout",
     "output_type": "stream",
     "text": [
      "Lyrics with stopwords:\n",
      " ['let', 'me', 'down', \"don't\", 'let', 'me', 'down', \"don't\", 'let', 'me']\n",
      "Lyrics without stopwords:\n",
      " ['let', 'let', 'let', 'love', 'first', 'time', 'know', 'gonna', 'last', 'love']\n"
     ]
    }
   ],
   "source": [
    "# inspect sample lyrics with and without stopwords\n",
    "print(\"Lyrics with stopwords:\\n\",tokenize(all_actual_str)[:10])\n",
    "print(\"Lyrics without stopwords:\\n\",all_actual_str_no_stop[:10])"
   ]
  },
  {
   "cell_type": "markdown",
   "metadata": {},
   "source": [
    "### Plot most frequent words from predictions and actual lyrics"
   ]
  },
  {
   "cell_type": "code",
   "execution_count": 45,
   "metadata": {},
   "outputs": [
    {
     "data": {
      "image/png": "[encoded data removed]",
      "text/plain": [
       "<Figure size 640x480 with 1 Axes>"
      ]
     },
     "metadata": {},
     "output_type": "display_data"
    }
   ],
   "source": [
    "# plot the frequency distribution of each token in original lyrics\n",
    "dist_actual = nltk.FreqDist(all_actual_str_no_stop)\n",
    "filter_words = dict([(m, n) for m, n in dist_actual.items() if len(m) > 2])\n",
    "dist_actual = nltk.FreqDist(filter_words)\n",
    "dist_actual.plot(20, cumulative=False);\n",
    "plt.title('Frequent Words in Original Lyrics');\n"
   ]
  },
  {
   "cell_type": "code",
   "execution_count": 46,
   "metadata": {},
   "outputs": [
    {
     "data": {
      "image/png": "[encoded data removed]",
      "text/plain": [
       "<Figure size 640x480 with 1 Axes>"
      ]
     },
     "metadata": {},
     "output_type": "display_data"
    }
   ],
   "source": [
    "# plot the frequency distribution of each token in naive model lyrics\n",
    "dist_naive = nltk.FreqDist(all_naive_preds_str_no_stop)\n",
    "filter_words = dict([(m, n) for m, n in dist_naive.items() if len(m) > 2])\n",
    "dist_naive = nltk.FreqDist(filter_words)\n",
    "dist_naive.plot(20, cumulative=False);\n",
    "plt.title('Frequent Words in Generated Lyrics (Naive)');"
   ]
  },
  {
   "cell_type": "code",
   "execution_count": 47,
   "metadata": {},
   "outputs": [
    {
     "data": {
      "image/png": "[encoded data removed]",
      "text/plain": [
       "<Figure size 640x480 with 1 Axes>"
      ]
     },
     "metadata": {},
     "output_type": "display_data"
    }
   ],
   "source": [
    "dist_tuned = nltk.FreqDist(all_tuned_preds_str_no_stop)\n",
    "filter_words = dict([(m, n) for m, n in dist_tuned.items() if len(m) > 2])\n",
    "dist_tuned = nltk.FreqDist(filter_words)\n",
    "dist_tuned.plot(20, cumulative=False);\n",
    "plt.title('Frequent Words in Generated Lyrics (Tuned)');"
   ]
  },
  {
   "cell_type": "markdown",
   "metadata": {},
   "source": [
    "### Percentages of top words\n",
    "We calculate the percent of the most frequent 30 words in actual lyrics that are also present in model-generated lyrics"
   ]
  },
  {
   "cell_type": "code",
   "execution_count": 89,
   "metadata": {},
   "outputs": [
    {
     "data": {
      "text/plain": [
       "['love',\n",
       " 'girl',\n",
       " 'like',\n",
       " 'please',\n",
       " 'want',\n",
       " 'time',\n",
       " 'well',\n",
       " 'never',\n",
       " 'forget',\n",
       " 'man']"
      ]
     },
     "execution_count": 89,
     "metadata": {},
     "output_type": "execute_result"
    }
   ],
   "source": [
    "# sort each frequency dictionary to get top words for each model\n",
    "sorted_actual = [name for name, count in sorted(dist_actual.items(), reverse=True, key=lambda x:x[1])]\n",
    "sorted_tuned = [name for name, count in sorted(dist_tuned.items(), reverse=True, key=lambda x:x[1])]\n",
    "sorted_naive = [name for name, count in sorted(dist_naive.items(), reverse=True, key=lambda x:x[1])]\n",
    "sorted_naive[:10]"
   ]
  },
  {
   "cell_type": "code",
   "execution_count": 94,
   "metadata": {},
   "outputs": [],
   "source": [
    "# count number of top 30 words that are present in predicted text\n",
    "num_top_words_naive = 0\n",
    "num_top_words_tuned = 0\n",
    "for top_word in sorted_actual[:30]:\n",
    "    if top_word in sorted_tuned[:30]:\n",
    "        num_top_words_tuned+=1\n",
    "    if top_word in sorted_naive[:30]:\n",
    "        num_top_words_naive+=1\n"
   ]
  },
  {
   "cell_type": "code",
   "execution_count": 97,
   "metadata": {},
   "outputs": [
    {
     "name": "stdout",
     "output_type": "stream",
     "text": [
      "Naive model's predictions contain 0.53% of the top 30 words from Beatles lyrics\n",
      "Tuned model's predictions contain 0.7% of the top 30 words from Beatles lyrics\n"
     ]
    }
   ],
   "source": [
    "print(f\"Naive model's predictions contain {round(num_top_words_naive/30,2)}% of the top 30 words from Beatles lyrics\")\n",
    "print(f\"Tuned model's predictions contain {round(num_top_words_tuned/30,2)}% of the top 30 words from Beatles lyrics\")"
   ]
  },
  {
   "cell_type": "markdown",
   "metadata": {},
   "source": [
    "We observe that the tuned model contains a higher percentage of the most frequent words used in actual Beatles song lyrics.\n",
    "## Free Text Generation\n",
    "We generate text samples using each model with an open-ended prompt, toggling the Temperature parameter to determine an optimal balance between exploration and exploitation"
   ]
  },
  {
   "cell_type": "code",
   "execution_count": 105,
   "metadata": {},
   "outputs": [
    {
     "name": "stderr",
     "output_type": "stream",
     "text": [
      "Setting `pad_token_id` to `eos_token_id`:50256 for open-end generation.\n"
     ]
    },
    {
     "name": "stdout",
     "output_type": "stream",
     "text": [
      "I am going home!\" He yelled. They chased their man across the block at whichpoint the pair chased after someone they'd already seen run through the building near 10th and N Streets West.\n",
      "\n",
      "Once all the men at 11 W Grand didn't return (Derek Johnson, the manager of 646 Park Avenue that housed the crime victims at 11 W Grand told police to check, then that afternoon he checked his telephone phone for an estimated $12,080 the men, not all in masks\n"
     ]
    }
   ],
   "source": [
    "output = naive_model(\"I am going\", max_length=100, num_return_sequences=1, temperature=2.0)[0]['generated_text']\n",
    "print(output)"
   ]
  },
  {
   "cell_type": "code",
   "execution_count": 100,
   "metadata": {},
   "outputs": [
    {
     "name": "stdout",
     "output_type": "stream",
     "text": [
      "I am going to get you, I am going to get you in the end Yes I am going to get you in the end Oh yeah, oh yeah I think about you night and day I need you and it's true When I think about you, I can say I'm never, never, never, never blue So I'm telling you, my friend That I'll get you, I'm going to get you in the end Yes I am going to get you in the end Oh yeah,\n"
     ]
    }
   ],
   "source": [
    "output = generate_text('saved_model', \"I am going\", 100, temp=.3)\n",
    "print(output)"
   ]
  },
  {
   "cell_type": "code",
   "execution_count": 102,
   "metadata": {},
   "outputs": [
    {
     "name": "stdout",
     "output_type": "stream",
     "text": [
      "I am going to Kansas City for the All American CrabFest') And I get to the top of the slide And I see this big old blue taxman sitting there Taxman! I get to my feet Taxman, taxman! Woo taxman! Woo taxman! And he licks my finger Woo taxman, taxman! Woo taxman!  There were bells on a hill But I never heard them ringing No, I never heard them at all Till there was you There were birds\n"
     ]
    }
   ],
   "source": [
    "output = generate_text('saved_model', \"I am going\", 100, temp=1.0)\n",
    "print(output)"
   ]
  },
  {
   "cell_type": "code",
   "execution_count": 101,
   "metadata": {},
   "outputs": [
    {
     "name": "stdout",
     "output_type": "stream",
     "text": [
      "I am going to get 'em,'\" he says matter-of-factly \"You better leave me alone.\" And he goes And he never returns\n",
      " and he never even says goodbye As I'm sitting here doing nothing but aging (Agh) The men of my generation slither while their horses are genie-literati (Float down stream) The younger generation flies at the sun (Birthday cake) While my mother tongue is dying From aging (Ooh) Forever on end (Ah\n"
     ]
    }
   ],
   "source": [
    "output = generate_text('saved_model', \"I am going\", 100, temp=2.0)\n",
    "print(output)"
   ]
  },
  {
   "cell_type": "code",
   "execution_count": 109,
   "metadata": {},
   "outputs": [
    {
     "name": "stdout",
     "output_type": "stream",
     "text": [
      "I am going to leave Memphis, Tennessee Because...\" Oh now I've found my calling here in Amarillo, Texas Here I can morn in blue all night long I can hear the games in the park Before the bus arrives Everybody says the jukebox will never drop They're damn near bullshitting Yeah! Singingbirds singing songs in a canteen Speaking Tamil in between texters Eating bacon alone in the hope it brings happiness Please, just come on me I don't care if there's\n"
     ]
    }
   ],
   "source": [
    "output = generate_text('saved_model', \"I am going\", 100, temp=3.0)\n",
    "print(output)"
   ]
  },
  {
   "cell_type": "markdown",
   "metadata": {},
   "source": [
    "We observe that the naive model generates coherent text, but it does not follow the rhythmic pattern of a song, and appears to be an excerpt from a story.<br>\n",
    "At the lowest temperature, the tuned model generates text identical to that of the Beatles song I'll Get You.<br>\n",
    "At a temperature of 1.0, the trained model generates lyrics reminicent of the Beatles song Taxman, though many of the words are changed.<br>\n",
    "The remainng two predictions at temperatures 2.0 and 3.0 do not appear to resemble any specific Beatles song, though rhthmically and in subject-matter, they do appear to have similarities."
   ]
  },
  {
   "cell_type": "code",
   "execution_count": null,
   "metadata": {},
   "outputs": [],
   "source": []
  }
 ],
 "metadata": {
  "instance_type": "ml.m5.large",
  "kernelspec": {
   "display_name": "Python 3 (Data Science)",
   "language": "python",
   "name": "python3__SAGEMAKER_INTERNAL__arn:aws:sagemaker:us-east-1:081325390199:image/datascience-1.0"
  },
  "language_info": {
   "codemirror_mode": {
    "name": "ipython",
    "version": 3
   },
   "file_extension": ".py",
   "mimetype": "text/x-python",
   "name": "python",
   "nbconvert_exporter": "python",
   "pygments_lexer": "ipython3",
   "version": "3.7.10"
  }
 },
 "nbformat": 4,
 "nbformat_minor": 4
}
