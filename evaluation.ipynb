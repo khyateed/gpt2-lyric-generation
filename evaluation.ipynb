{
 "cells": [
  {
   "cell_type": "markdown",
   "metadata": {},
   "source": [
    "# Model Evaluation\n",
    "This notebook evaluates the finetuned model on our test set by inspecting part-of-speech, count frequencies, and model temperature, and compares performance to a naive unsupervised GPT-2 model.\n",
    "## Song Lyric Generation with GPT-2\n",
    "**Data Mining Final Project**<br>\n",
    "Khyatee Desai<br>Dec. 19, 2022\n"
   ]
  },
  {
   "cell_type": "code",
   "execution_count": 3,
   "metadata": {},
   "outputs": [],
   "source": [
    "# !pip install transformers\n",
    "# !pip install torch\n",
    "# !pip install stop_words"
   ]
  },
  {
   "cell_type": "code",
   "execution_count": 4,
   "metadata": {},
   "outputs": [],
   "source": [
    "import pandas as pd\n",
    "import numpy as np\n",
    "import torch\n",
    "import matplotlib.pyplot as plt \n",
    "from transformers import GPT2LMHeadModel, GPT2Tokenizer, pipeline\n",
    "import statistics\n",
    "from nltk.translate.bleu_score import sentence_bleu\n",
    "import nltk\n",
    "from nltk.corpus import stopwords\n",
    "from stop_words import get_stop_words\n",
    "# nltk.download('punkt')\n",
    "# nltk.download('averaged_perceptron_tagger')\n",
    "# nltk.download('stopwords')"
   ]
  },
  {
   "cell_type": "code",
   "execution_count": 5,
   "metadata": {},
   "outputs": [
    {
     "data": {
      "text/html": [
       "<div>\n",
       "<style scoped>\n",
       "    .dataframe tbody tr th:only-of-type {\n",
       "        vertical-align: middle;\n",
       "    }\n",
       "\n",
       "    .dataframe tbody tr th {\n",
       "        vertical-align: top;\n",
       "    }\n",
       "\n",
       "    .dataframe thead th {\n",
       "        text-align: right;\n",
       "    }\n",
       "</style>\n",
       "<table border=\"1\" class=\"dataframe\">\n",
       "  <thead>\n",
       "    <tr style=\"text-align: right;\">\n",
       "      <th></th>\n",
       "      <th>lyrics</th>\n",
       "    </tr>\n",
       "  </thead>\n",
       "  <tbody>\n",
       "    <tr>\n",
       "      <th>0</th>\n",
       "      <td>Don't let me down, don't let me down Don't let...</td>\n",
       "    </tr>\n",
       "    <tr>\n",
       "      <th>1</th>\n",
       "      <td>I get high when I see you go by My oh my When ...</td>\n",
       "    </tr>\n",
       "    <tr>\n",
       "      <th>2</th>\n",
       "      <td>[All too much!] It's all too much It's all to...</td>\n",
       "    </tr>\n",
       "    <tr>\n",
       "      <th>3</th>\n",
       "      <td>I love you, 'cause you tell me things I want t...</td>\n",
       "    </tr>\n",
       "    <tr>\n",
       "      <th>4</th>\n",
       "      <td>Is there anybody going to listen to my story A...</td>\n",
       "    </tr>\n",
       "  </tbody>\n",
       "</table>\n",
       "</div>"
      ],
      "text/plain": [
       "                                              lyrics\n",
       "0  Don't let me down, don't let me down Don't let...\n",
       "1  I get high when I see you go by My oh my When ...\n",
       "2   [All too much!] It's all too much It's all to...\n",
       "3  I love you, 'cause you tell me things I want t...\n",
       "4  Is there anybody going to listen to my story A..."
      ]
     },
     "execution_count": 5,
     "metadata": {},
     "output_type": "execute_result"
    }
   ],
   "source": [
    "# read in the test set\n",
    "test = pd.read_parquet('Data/testing_lyrics.parquet').reset_index(drop=True)\n",
    "test.head()"
   ]
  },
  {
   "cell_type": "markdown",
   "metadata": {},
   "source": [
    "### Prep the finetuned model\n",
    "We write a function to generate text with our finetuned model"
   ]
  },
  {
   "cell_type": "code",
   "execution_count": 6,
   "metadata": {},
   "outputs": [],
   "source": [
    "def generate_text(model_dir, input_seq, max_length, temp):\n",
    "    '''\n",
    "    Encodes an input sequence and applies the finetuned model to generate predictions.'''\n",
    "    \n",
    "    model = GPT2LMHeadModel.from_pretrained(model_dir)\n",
    "    tokenizer = GPT2Tokenizer.from_pretrained(model_dir)\n",
    "    encoded = tokenizer.encode(f'{input_seq}', return_tensors='pt')\n",
    "    final_outputs = model.generate(encoded,\n",
    "                                do_sample=True,\n",
    "                                max_length = max_length,\n",
    "                                pad_token_id = model.config.eos_token_id,\n",
    "                                top_k = 50,\n",
    "                                top_p =0.95, \n",
    "                                temperature = temp)\n",
    "    generated = tokenizer.decode(final_outputs[0], skip_special_tokens=True)\n",
    "    return(generated)"
   ]
  },
  {
   "cell_type": "markdown",
   "metadata": {},
   "source": [
    "### Create a naive model\n",
    "We instantiate a \"naive\" model, which is the untrained version of GPT-2"
   ]
  },
  {
   "cell_type": "code",
   "execution_count": 81,
   "metadata": {},
   "outputs": [
    {
     "name": "stderr",
     "output_type": "stream",
     "text": [
      "Setting `pad_token_id` to `eos_token_id`:50256 for open-end generation.\n"
     ]
    },
    {
     "data": {
      "text/plain": [
       "\"Hello, my name is Nana and I'm a singer-songwriter, playa artist, and comic. I've known a number of bands\""
      ]
     },
     "execution_count": 81,
     "metadata": {},
     "output_type": "execute_result"
    }
   ],
   "source": [
    "naive_model = pipeline('text-generation', model='gpt2-medium')\n",
    "\n",
    "# Test out the naive model with a sample prompt\n",
    "naive_model(\"Hello, my name is\", max_length=30, num_return_sequences=1)[0]['generated_text']\n"
   ]
  },
  {
   "cell_type": "markdown",
   "metadata": {},
   "source": [
    "## Generate Predictions\n",
    "We use both the finetuned and naive models to generate predictions on the test set, using the first 50 tokens as input, and generating 200 output tokens. We save predictions to a parquet file, as this is time intensive."
   ]
  },
  {
   "cell_type": "code",
   "execution_count": 7,
   "metadata": {},
   "outputs": [],
   "source": [
    "test['input'] = test['lyrics'].apply(lambda x: ' '.join(x.split()[:50])) # 50 input tokens\n",
    "# test['tuned_prediction'] = test['input'].apply(lambda input_text: generate_text('saved_model', input_text, 200, temp=1.0)) # generate 200 tokens with finetuned model\n",
    "# test['naive_prediction'] = test['input'].apply(lambda input_text: naive_model(input_text, max_length=200, num_return_sequences=1)[0]['generated_text']) # generate 200 tokens with naive model\n",
    "# test.to_parquet('predictions.parquet') # save predictions\n"
   ]
  },
  {
   "cell_type": "code",
   "execution_count": 38,
   "metadata": {},
   "outputs": [
    {
     "data": {
      "text/html": [
       "<div>\n",
       "<style scoped>\n",
       "    .dataframe tbody tr th:only-of-type {\n",
       "        vertical-align: middle;\n",
       "    }\n",
       "\n",
       "    .dataframe tbody tr th {\n",
       "        vertical-align: top;\n",
       "    }\n",
       "\n",
       "    .dataframe thead th {\n",
       "        text-align: right;\n",
       "    }\n",
       "</style>\n",
       "<table border=\"1\" class=\"dataframe\">\n",
       "  <thead>\n",
       "    <tr style=\"text-align: right;\">\n",
       "      <th></th>\n",
       "      <th>lyrics</th>\n",
       "      <th>input</th>\n",
       "      <th>tuned_prediction</th>\n",
       "      <th>naive_prediction</th>\n",
       "      <th>lyrics_end</th>\n",
       "      <th>naive_prediction_end</th>\n",
       "      <th>tuned_prediction_end</th>\n",
       "    </tr>\n",
       "  </thead>\n",
       "  <tbody>\n",
       "    <tr>\n",
       "      <th>0</th>\n",
       "      <td>Don't let me down, don't let me down Don't let...</td>\n",
       "      <td>Don't let me down, don't let me down Don't let...</td>\n",
       "      <td>Don't let me down, don't let me down Don't let...</td>\n",
       "      <td>Don't let me down, don't let me down Don't let...</td>\n",
       "      <td>let me down Don't let me down, don't let me do...</td>\n",
       "      <td>let me down I love you (more and louder) I lov...</td>\n",
       "      <td>let me down Don't let me down, don't let me do...</td>\n",
       "    </tr>\n",
       "    <tr>\n",
       "      <th>1</th>\n",
       "      <td>I get high when I see you go by My oh my When ...</td>\n",
       "      <td>I get high when I see you go by My oh my When ...</td>\n",
       "      <td>I get high when I see you go by My oh my When ...</td>\n",
       "      <td>I get high when I see you go by My oh my When ...</td>\n",
       "      <td>is all But it's so hard loving you Is it right...</td>\n",
       "      <td>all I can do Why is there not more love in you...</td>\n",
       "      <td>is all But it's so hard loving you Is it right...</td>\n",
       "    </tr>\n",
       "    <tr>\n",
       "      <th>2</th>\n",
       "      <td>[All too much!] It's all too much It's all to...</td>\n",
       "      <td>[All too much!] It's all too much It's all too...</td>\n",
       "      <td>[All too much!] It's all too much It's all too...</td>\n",
       "      <td>[All too much!] It's all too much It's all too...</td>\n",
       "      <td>Everywhere, it's what you make For us to take,...</td>\n",
       "      <td>seems to be gone forever Now I'm just another ...</td>\n",
       "      <td>Everywhere, it's what you make For us to take,...</td>\n",
       "    </tr>\n",
       "    <tr>\n",
       "      <th>3</th>\n",
       "      <td>I love you, 'cause you tell me things I want t...</td>\n",
       "      <td>I love you, 'cause you tell me things I want t...</td>\n",
       "      <td>I love you, 'cause you tell me things I want t...</td>\n",
       "      <td>I love you, 'cause you tell me things I want t...</td>\n",
       "      <td>the reason why If I cry, it's not because I'm ...</td>\n",
       "      <td>And never ever forget that I'm my own mother O...</td>\n",
       "      <td>I Would give everything I've got For a little ...</td>\n",
       "    </tr>\n",
       "    <tr>\n",
       "      <th>4</th>\n",
       "      <td>Is there anybody going to listen to my story A...</td>\n",
       "      <td>Is there anybody going to listen to my story A...</td>\n",
       "      <td>Is there anybody going to listen to my story A...</td>\n",
       "      <td>Is there anybody going to listen to my story A...</td>\n",
       "      <td>so hard to leave her She will turn to me and s...</td>\n",
       "      <td>to forget. Ah, girl when I think of all the ti...</td>\n",
       "      <td>so hard to leave her She will turn to me and s...</td>\n",
       "    </tr>\n",
       "  </tbody>\n",
       "</table>\n",
       "</div>"
      ],
      "text/plain": [
       "                                              lyrics  \\\n",
       "0  Don't let me down, don't let me down Don't let...   \n",
       "1  I get high when I see you go by My oh my When ...   \n",
       "2   [All too much!] It's all too much It's all to...   \n",
       "3  I love you, 'cause you tell me things I want t...   \n",
       "4  Is there anybody going to listen to my story A...   \n",
       "\n",
       "                                               input  \\\n",
       "0  Don't let me down, don't let me down Don't let...   \n",
       "1  I get high when I see you go by My oh my When ...   \n",
       "2  [All too much!] It's all too much It's all too...   \n",
       "3  I love you, 'cause you tell me things I want t...   \n",
       "4  Is there anybody going to listen to my story A...   \n",
       "\n",
       "                                    tuned_prediction  \\\n",
       "0  Don't let me down, don't let me down Don't let...   \n",
       "1  I get high when I see you go by My oh my When ...   \n",
       "2  [All too much!] It's all too much It's all too...   \n",
       "3  I love you, 'cause you tell me things I want t...   \n",
       "4  Is there anybody going to listen to my story A...   \n",
       "\n",
       "                                    naive_prediction  \\\n",
       "0  Don't let me down, don't let me down Don't let...   \n",
       "1  I get high when I see you go by My oh my When ...   \n",
       "2  [All too much!] It's all too much It's all too...   \n",
       "3  I love you, 'cause you tell me things I want t...   \n",
       "4  Is there anybody going to listen to my story A...   \n",
       "\n",
       "                                          lyrics_end  \\\n",
       "0  let me down Don't let me down, don't let me do...   \n",
       "1  is all But it's so hard loving you Is it right...   \n",
       "2  Everywhere, it's what you make For us to take,...   \n",
       "3  the reason why If I cry, it's not because I'm ...   \n",
       "4  so hard to leave her She will turn to me and s...   \n",
       "\n",
       "                                naive_prediction_end  \\\n",
       "0  let me down I love you (more and louder) I lov...   \n",
       "1  all I can do Why is there not more love in you...   \n",
       "2  seems to be gone forever Now I'm just another ...   \n",
       "3  And never ever forget that I'm my own mother O...   \n",
       "4  to forget. Ah, girl when I think of all the ti...   \n",
       "\n",
       "                                tuned_prediction_end  \n",
       "0  let me down Don't let me down, don't let me do...  \n",
       "1  is all But it's so hard loving you Is it right...  \n",
       "2  Everywhere, it's what you make For us to take,...  \n",
       "3  I Would give everything I've got For a little ...  \n",
       "4  so hard to leave her She will turn to me and s...  "
      ]
     },
     "execution_count": 38,
     "metadata": {},
     "output_type": "execute_result"
    }
   ],
   "source": [
    "# inspect the predictions generated in previous cell\n",
    "preds = pd.read_parquet('Data/predictions.parquet') \n",
    "preds['lyrics_end'] = preds['lyrics'].apply(lambda x: ' '.join(x.split()[50:150])) # 100 tokens\n",
    "preds['naive_prediction_end'] = preds['naive_prediction'].apply(lambda x: ' '.join(x.split()[50:150])) # 100 tokens\n",
    "preds['tuned_prediction_end'] = preds['tuned_prediction'].apply(lambda x: ' '.join(x.split()[50:150])) # 100 tokens\n",
    "preds.head()"
   ]
  },
  {
   "cell_type": "markdown",
   "metadata": {},
   "source": [
    "# Evaluation\n",
    "We use several methods to assess the quality of generated predictions, and compare them to those of a naive model."
   ]
  },
  {
   "cell_type": "code",
   "execution_count": 99,
   "metadata": {},
   "outputs": [
    {
     "name": "stdout",
     "output_type": "stream",
     "text": [
      "Model Input:\n",
      " Oh yeah, I'll tell you something I think you'll understand When I say that something I wanna hold your hand I wanna hold your hand I wanna hold your hand Oh please, say to me You'll let me be your man And please, say to me You'll let me hold \n",
      "\n",
      "Actual Lyrics:\n",
      " your hand You'll let me hold your hand I wanna hold your hand And when I touch you I feel happy Inside It's such a feeling that my love I can't hide I can't hide I can't hide Yeah, you got that something I think you'll understand When I say that something I wanna hold your hand I wanna hold your hand I wanna hold your hand And when I touch you I feel happy Inside It's such a feeling that my love I can't hide I can't hide I can't hide Yeah, you got that something I think you'll \n",
      "\n",
      "Naive Model Predictions:\n",
      " your hand Oh please, say to me Oh please you'll let me hold your hand Oh please I want to love you (Hook 3) I want to love you Oh how I wanna cry Oh how I wanna weep And touch your face If you'll let me be your man And please, say to me (you like it) You'll let me be your man Oh please, say to me [Hook] Oh why you've been trying to stay away I want to love you I'm not gonna stop you Oh please, say to me I'm not gonna let any other people \n",
      "\n",
      "Finetuned Model Predictions:\n",
      " your hand You'll let me hold your hand I wanna hold your hand And when I touch you I feel happy Inside It's such a feeling that my love I can't hide I can't hide Yeah, you got that something I think you'll understand When I say that something I wanna hold your hand I wanna hold your hand I wanna hold your hand I wanna hold your hand And when I touch you I feel happy Inside It's such a feeling that my love I can't hide I can't hide Yeah, you got that something I think you'll understand\n"
     ]
    }
   ],
   "source": [
    "# Visually inspect predictions for one of the test songs\n",
    "i = 17 # pick a random song\n",
    "print(\"Model Input:\\n\",preds['input'][i],'\\n')\n",
    "print(\"Actual Lyrics:\\n\",preds['lyrics_end'][i],'\\n')\n",
    "print(\"Naive Model Predictions:\\n\",preds['naive_prediction_end'][i],'\\n')\n",
    "print(\"Finetuned Model Predictions:\\n\",preds['tuned_prediction_end'][i])"
   ]
  },
  {
   "cell_type": "markdown",
   "metadata": {},
   "source": [
    "## BLEU Score\n",
    "We compare model predictions to a song's actual lyrics, and compute a BLEU score to quantify how similar the generated text is to the actual text. Two identical texts will yield a BLEU score of 1, so a high BLEU score indicates that our model has \"learned\" during the finetuning process."
   ]
  },
  {
   "cell_type": "code",
   "execution_count": 96,
   "metadata": {},
   "outputs": [],
   "source": [
    "def tokenize(string):\n",
    "    '''Removes puntuation from a string and separates it into a list of tokens'''\n",
    "    return(string.lower().replace(',','').replace('(','').replace(')','').replace(\"?\",'').split(' '))"
   ]
  },
  {
   "cell_type": "code",
   "execution_count": 97,
   "metadata": {},
   "outputs": [
    {
     "name": "stderr",
     "output_type": "stream",
     "text": [
      "/opt/conda/lib/python3.7/site-packages/nltk/translate/bleu_score.py:552: UserWarning: \n",
      "The hypothesis contains 0 counts of 3-gram overlaps.\n",
      "Therefore the BLEU score evaluates to 0, independently of\n",
      "how many N-gram overlaps of lower order it contains.\n",
      "Consider using lower n-gram order or use SmoothingFunction()\n",
      "  warnings.warn(_msg)\n",
      "/opt/conda/lib/python3.7/site-packages/nltk/translate/bleu_score.py:552: UserWarning: \n",
      "The hypothesis contains 0 counts of 4-gram overlaps.\n",
      "Therefore the BLEU score evaluates to 0, independently of\n",
      "how many N-gram overlaps of lower order it contains.\n",
      "Consider using lower n-gram order or use SmoothingFunction()\n",
      "  warnings.warn(_msg)\n",
      "/opt/conda/lib/python3.7/site-packages/nltk/translate/bleu_score.py:552: UserWarning: \n",
      "The hypothesis contains 0 counts of 2-gram overlaps.\n",
      "Therefore the BLEU score evaluates to 0, independently of\n",
      "how many N-gram overlaps of lower order it contains.\n",
      "Consider using lower n-gram order or use SmoothingFunction()\n",
      "  warnings.warn(_msg)\n"
     ]
    },
    {
     "data": {
      "text/html": [
       "<div>\n",
       "<style scoped>\n",
       "    .dataframe tbody tr th:only-of-type {\n",
       "        vertical-align: middle;\n",
       "    }\n",
       "\n",
       "    .dataframe tbody tr th {\n",
       "        vertical-align: top;\n",
       "    }\n",
       "\n",
       "    .dataframe thead th {\n",
       "        text-align: right;\n",
       "    }\n",
       "</style>\n",
       "<table border=\"1\" class=\"dataframe\">\n",
       "  <thead>\n",
       "    <tr style=\"text-align: right;\">\n",
       "      <th></th>\n",
       "      <th>tuned</th>\n",
       "      <th>naive</th>\n",
       "    </tr>\n",
       "  </thead>\n",
       "  <tbody>\n",
       "    <tr>\n",
       "      <th>0</th>\n",
       "      <td>1.179519e-01</td>\n",
       "      <td>8.428038e-79</td>\n",
       "    </tr>\n",
       "    <tr>\n",
       "      <th>1</th>\n",
       "      <td>5.435008e-01</td>\n",
       "      <td>6.934361e-02</td>\n",
       "    </tr>\n",
       "    <tr>\n",
       "      <th>2</th>\n",
       "      <td>2.387070e-01</td>\n",
       "      <td>3.274880e-155</td>\n",
       "    </tr>\n",
       "    <tr>\n",
       "      <th>3</th>\n",
       "      <td>3.663018e-155</td>\n",
       "      <td>1.531700e-78</td>\n",
       "    </tr>\n",
       "    <tr>\n",
       "      <th>4</th>\n",
       "      <td>2.359876e-01</td>\n",
       "      <td>4.934581e-02</td>\n",
       "    </tr>\n",
       "    <tr>\n",
       "      <th>5</th>\n",
       "      <td>3.078454e-01</td>\n",
       "      <td>3.799095e-155</td>\n",
       "    </tr>\n",
       "    <tr>\n",
       "      <th>6</th>\n",
       "      <td>6.980296e-01</td>\n",
       "      <td>3.655267e-02</td>\n",
       "    </tr>\n",
       "    <tr>\n",
       "      <th>7</th>\n",
       "      <td>9.467214e-02</td>\n",
       "      <td>5.323806e-02</td>\n",
       "    </tr>\n",
       "    <tr>\n",
       "      <th>8</th>\n",
       "      <td>5.691642e-01</td>\n",
       "      <td>1.805356e-155</td>\n",
       "    </tr>\n",
       "    <tr>\n",
       "      <th>9</th>\n",
       "      <td>1.804753e-01</td>\n",
       "      <td>1.169824e-231</td>\n",
       "    </tr>\n",
       "    <tr>\n",
       "      <th>10</th>\n",
       "      <td>8.799694e-01</td>\n",
       "      <td>3.927840e-02</td>\n",
       "    </tr>\n",
       "    <tr>\n",
       "      <th>11</th>\n",
       "      <td>2.031247e-01</td>\n",
       "      <td>4.717069e-155</td>\n",
       "    </tr>\n",
       "    <tr>\n",
       "      <th>12</th>\n",
       "      <td>4.200717e-01</td>\n",
       "      <td>1.392888e-01</td>\n",
       "    </tr>\n",
       "    <tr>\n",
       "      <th>13</th>\n",
       "      <td>1.507632e-01</td>\n",
       "      <td>1.451904e-01</td>\n",
       "    </tr>\n",
       "    <tr>\n",
       "      <th>14</th>\n",
       "      <td>2.535526e-01</td>\n",
       "      <td>1.275150e-231</td>\n",
       "    </tr>\n",
       "    <tr>\n",
       "      <th>15</th>\n",
       "      <td>1.259893e-01</td>\n",
       "      <td>1.199765e-231</td>\n",
       "    </tr>\n",
       "    <tr>\n",
       "      <th>16</th>\n",
       "      <td>5.204235e-01</td>\n",
       "      <td>3.343863e-155</td>\n",
       "    </tr>\n",
       "    <tr>\n",
       "      <th>17</th>\n",
       "      <td>9.415658e-01</td>\n",
       "      <td>7.437721e-02</td>\n",
       "    </tr>\n",
       "    <tr>\n",
       "      <th>18</th>\n",
       "      <td>7.378583e-01</td>\n",
       "      <td>7.783067e-79</td>\n",
       "    </tr>\n",
       "    <tr>\n",
       "      <th>19</th>\n",
       "      <td>3.205001e-01</td>\n",
       "      <td>4.090821e-155</td>\n",
       "    </tr>\n",
       "    <tr>\n",
       "      <th>20</th>\n",
       "      <td>7.408166e-01</td>\n",
       "      <td>8.242530e-02</td>\n",
       "    </tr>\n",
       "    <tr>\n",
       "      <th>21</th>\n",
       "      <td>2.432342e-01</td>\n",
       "      <td>1.289739e-01</td>\n",
       "    </tr>\n",
       "    <tr>\n",
       "      <th>22</th>\n",
       "      <td>7.911874e-01</td>\n",
       "      <td>3.760784e-155</td>\n",
       "    </tr>\n",
       "    <tr>\n",
       "      <th>23</th>\n",
       "      <td>4.974525e-01</td>\n",
       "      <td>3.343863e-155</td>\n",
       "    </tr>\n",
       "    <tr>\n",
       "      <th>24</th>\n",
       "      <td>1.394735e-78</td>\n",
       "      <td>1.247711e-231</td>\n",
       "    </tr>\n",
       "    <tr>\n",
       "      <th>25</th>\n",
       "      <td>7.863875e-01</td>\n",
       "      <td>3.309910e-155</td>\n",
       "    </tr>\n",
       "    <tr>\n",
       "      <th>26</th>\n",
       "      <td>1.107692e-01</td>\n",
       "      <td>1.114398e-231</td>\n",
       "    </tr>\n",
       "    <tr>\n",
       "      <th>27</th>\n",
       "      <td>8.066054e-01</td>\n",
       "      <td>1.384047e-78</td>\n",
       "    </tr>\n",
       "    <tr>\n",
       "      <th>28</th>\n",
       "      <td>1.267893e-01</td>\n",
       "      <td>4.527237e-155</td>\n",
       "    </tr>\n",
       "    <tr>\n",
       "      <th>29</th>\n",
       "      <td>6.644690e-01</td>\n",
       "      <td>4.527237e-155</td>\n",
       "    </tr>\n",
       "    <tr>\n",
       "      <th>30</th>\n",
       "      <td>2.783292e-155</td>\n",
       "      <td>3.556730e-155</td>\n",
       "    </tr>\n",
       "    <tr>\n",
       "      <th>31</th>\n",
       "      <td>7.302085e-01</td>\n",
       "      <td>4.276793e-01</td>\n",
       "    </tr>\n",
       "    <tr>\n",
       "      <th>32</th>\n",
       "      <td>1.464498e-01</td>\n",
       "      <td>4.864833e-155</td>\n",
       "    </tr>\n",
       "    <tr>\n",
       "      <th>33</th>\n",
       "      <td>4.779527e-01</td>\n",
       "      <td>8.659578e-02</td>\n",
       "    </tr>\n",
       "  </tbody>\n",
       "</table>\n",
       "</div>"
      ],
      "text/plain": [
       "            tuned          naive\n",
       "0    1.179519e-01   8.428038e-79\n",
       "1    5.435008e-01   6.934361e-02\n",
       "2    2.387070e-01  3.274880e-155\n",
       "3   3.663018e-155   1.531700e-78\n",
       "4    2.359876e-01   4.934581e-02\n",
       "5    3.078454e-01  3.799095e-155\n",
       "6    6.980296e-01   3.655267e-02\n",
       "7    9.467214e-02   5.323806e-02\n",
       "8    5.691642e-01  1.805356e-155\n",
       "9    1.804753e-01  1.169824e-231\n",
       "10   8.799694e-01   3.927840e-02\n",
       "11   2.031247e-01  4.717069e-155\n",
       "12   4.200717e-01   1.392888e-01\n",
       "13   1.507632e-01   1.451904e-01\n",
       "14   2.535526e-01  1.275150e-231\n",
       "15   1.259893e-01  1.199765e-231\n",
       "16   5.204235e-01  3.343863e-155\n",
       "17   9.415658e-01   7.437721e-02\n",
       "18   7.378583e-01   7.783067e-79\n",
       "19   3.205001e-01  4.090821e-155\n",
       "20   7.408166e-01   8.242530e-02\n",
       "21   2.432342e-01   1.289739e-01\n",
       "22   7.911874e-01  3.760784e-155\n",
       "23   4.974525e-01  3.343863e-155\n",
       "24   1.394735e-78  1.247711e-231\n",
       "25   7.863875e-01  3.309910e-155\n",
       "26   1.107692e-01  1.114398e-231\n",
       "27   8.066054e-01   1.384047e-78\n",
       "28   1.267893e-01  4.527237e-155\n",
       "29   6.644690e-01  4.527237e-155\n",
       "30  2.783292e-155  3.556730e-155\n",
       "31   7.302085e-01   4.276793e-01\n",
       "32   1.464498e-01  4.864833e-155\n",
       "33   4.779527e-01   8.659578e-02"
      ]
     },
     "execution_count": 97,
     "metadata": {},
     "output_type": "execute_result"
    }
   ],
   "source": [
    "# Calculate blue scores between predicted lyrics and actual lyrics\n",
    "tuned_scores=[]\n",
    "for i in range(len(preds)): # iterate through each test song\n",
    "    reference = [tokenize(preds['lyrics_end'][i])] # list of actual lyrics\n",
    "    candidate = tokenize(preds['tuned_prediction_end'][i]) # list of tuned-model-predicted lyrics\n",
    "    tuned_scores.append(sentence_bleu(reference, candidate))\n",
    "# put scores in a pandas dataframe\n",
    "bleu_scores = pd.DataFrame(tuned_scores).rename(columns={0:'tuned'})\n",
    "\n",
    "naive_scores=[]\n",
    "for i in range(len(preds)):\n",
    "    reference = [tokenize(preds['lyrics_end'][i])]\n",
    "    candidate = tokenize(preds['naive_prediction_end'][i]) # list of naive-model-predicted lyrics\n",
    "    naive_scores.append(sentence_bleu(reference, candidate))\n",
    "\n",
    "# add naive scores to dataframe\n",
    "bleu_scores['naive'] = naive_scores\n",
    "bleu_scores"
   ]
  },
  {
   "cell_type": "code",
   "execution_count": 42,
   "metadata": {},
   "outputs": [
    {
     "name": "stdout",
     "output_type": "stream",
     "text": [
      "Average BLEU for tuned model predictions: 0.4018374913693834\n",
      "Average BLEU for naive model predictions: 0.03918497577015541\n"
     ]
    }
   ],
   "source": [
    "# calculate the average bleu score for each model\n",
    "print('Average BLEU for tuned model predictions:',bleu_scores.tuned.mean())\n",
    "print('Average BLEU for naive model predictions:',bleu_scores.naive.mean())"
   ]
  },
  {
   "cell_type": "markdown",
   "metadata": {},
   "source": [
    "We observe that the tuned model yields a higher BLEU score, and therefore generated predictions that are more similar to the actual song lyrics than the naive model.\n",
    "## Parts of Speech\n",
    "We inspect the frequency of different parts of speech for each prediction set to determine how it compares to the original lyrics. If our model has learned sufficiently, we should see a part-of-speech distribution in our predicted lyrics that is very similar to that of the actual lyrics."
   ]
  },
  {
   "cell_type": "code",
   "execution_count": 43,
   "metadata": {},
   "outputs": [
    {
     "data": {
      "text/html": [
       "<div>\n",
       "<style scoped>\n",
       "    .dataframe tbody tr th:only-of-type {\n",
       "        vertical-align: middle;\n",
       "    }\n",
       "\n",
       "    .dataframe tbody tr th {\n",
       "        vertical-align: top;\n",
       "    }\n",
       "\n",
       "    .dataframe thead th {\n",
       "        text-align: right;\n",
       "    }\n",
       "</style>\n",
       "<table border=\"1\" class=\"dataframe\">\n",
       "  <thead>\n",
       "    <tr style=\"text-align: right;\">\n",
       "      <th></th>\n",
       "      <th>input</th>\n",
       "      <th>lyrics_end</th>\n",
       "      <th>naive_prediction_end</th>\n",
       "      <th>tuned_prediction_end</th>\n",
       "    </tr>\n",
       "  </thead>\n",
       "  <tbody>\n",
       "    <tr>\n",
       "      <th>0</th>\n",
       "      <td>Don't let me down, don't let me down Don't let...</td>\n",
       "      <td>let me down Don't let me down, don't let me do...</td>\n",
       "      <td>let me down I love you (more and louder) I lov...</td>\n",
       "      <td>let me down Don't let me down, don't let me do...</td>\n",
       "    </tr>\n",
       "    <tr>\n",
       "      <th>1</th>\n",
       "      <td>I get high when I see you go by My oh my When ...</td>\n",
       "      <td>is all But it's so hard loving you Is it right...</td>\n",
       "      <td>all I can do Why is there not more love in you...</td>\n",
       "      <td>is all But it's so hard loving you Is it right...</td>\n",
       "    </tr>\n",
       "    <tr>\n",
       "      <th>2</th>\n",
       "      <td>[All too much!] It's all too much It's all too...</td>\n",
       "      <td>Everywhere, it's what you make For us to take,...</td>\n",
       "      <td>seems to be gone forever Now I'm just another ...</td>\n",
       "      <td>Everywhere, it's what you make For us to take,...</td>\n",
       "    </tr>\n",
       "    <tr>\n",
       "      <th>3</th>\n",
       "      <td>I love you, 'cause you tell me things I want t...</td>\n",
       "      <td>the reason why If I cry, it's not because I'm ...</td>\n",
       "      <td>And never ever forget that I'm my own mother O...</td>\n",
       "      <td>I Would give everything I've got For a little ...</td>\n",
       "    </tr>\n",
       "    <tr>\n",
       "      <th>4</th>\n",
       "      <td>Is there anybody going to listen to my story A...</td>\n",
       "      <td>so hard to leave her She will turn to me and s...</td>\n",
       "      <td>to forget. Ah, girl when I think of all the ti...</td>\n",
       "      <td>so hard to leave her She will turn to me and s...</td>\n",
       "    </tr>\n",
       "  </tbody>\n",
       "</table>\n",
       "</div>"
      ],
      "text/plain": [
       "                                               input  \\\n",
       "0  Don't let me down, don't let me down Don't let...   \n",
       "1  I get high when I see you go by My oh my When ...   \n",
       "2  [All too much!] It's all too much It's all too...   \n",
       "3  I love you, 'cause you tell me things I want t...   \n",
       "4  Is there anybody going to listen to my story A...   \n",
       "\n",
       "                                          lyrics_end  \\\n",
       "0  let me down Don't let me down, don't let me do...   \n",
       "1  is all But it's so hard loving you Is it right...   \n",
       "2  Everywhere, it's what you make For us to take,...   \n",
       "3  the reason why If I cry, it's not because I'm ...   \n",
       "4  so hard to leave her She will turn to me and s...   \n",
       "\n",
       "                                naive_prediction_end  \\\n",
       "0  let me down I love you (more and louder) I lov...   \n",
       "1  all I can do Why is there not more love in you...   \n",
       "2  seems to be gone forever Now I'm just another ...   \n",
       "3  And never ever forget that I'm my own mother O...   \n",
       "4  to forget. Ah, girl when I think of all the ti...   \n",
       "\n",
       "                                tuned_prediction_end  \n",
       "0  let me down Don't let me down, don't let me do...  \n",
       "1  is all But it's so hard loving you Is it right...  \n",
       "2  Everywhere, it's what you make For us to take,...  \n",
       "3  I Would give everything I've got For a little ...  \n",
       "4  so hard to leave her She will turn to me and s...  "
      ]
     },
     "execution_count": 43,
     "metadata": {},
     "output_type": "execute_result"
    }
   ],
   "source": [
    "# inspect our predictions\n",
    "preds[['input', 'lyrics_end', 'naive_prediction_end','tuned_prediction_end']].head()"
   ]
  },
  {
   "cell_type": "code",
   "execution_count": 44,
   "metadata": {},
   "outputs": [],
   "source": [
    "# concatenate all test set lyrics into a single string\n",
    "all_tuned_preds_str = ' '.join(list(preds.tuned_prediction_end.str.lower()))\n",
    "all_naive_preds_str = ' '.join(list(preds.naive_prediction_end.str.lower()))\n",
    "all_actual_str = ' '.join(list(preds.lyrics_end.str.lower()))\n"
   ]
  },
  {
   "cell_type": "code",
   "execution_count": 54,
   "metadata": {},
   "outputs": [
    {
     "data": {
      "text/plain": [
       "{'VB': 0.09090909090909091,\n",
       " 'PRP': 0.08253588516746412,\n",
       " 'RP': 0.005681818181818182,\n",
       " 'RB': 0.07685406698564594,\n",
       " 'VBP': 0.07805023923444976,\n",
       " 'RBR': 0.0014952153110047847,\n",
       " 'CC': 0.03618421052631579,\n",
       " 'JJ': 0.09001196172248804,\n",
       " 'DT': 0.06668660287081339,\n",
       " 'NNS': 0.02033492822966507,\n",
       " 'MD': 0.010466507177033494,\n",
       " 'WRB': 0.012260765550239234,\n",
       " 'VBZ': 0.023624401913875596,\n",
       " 'NN': 0.17942583732057416,\n",
       " 'IN': 0.08074162679425838,\n",
       " 'WP': 0.00687799043062201,\n",
       " 'TO': 0.028110047846889953,\n",
       " 'PRP$': 0.038576555023923445,\n",
       " 'VBG': 0.015849282296650717,\n",
       " 'VBN': 0.011961722488038277,\n",
       " 'VBD': 0.024820574162679427,\n",
       " 'PDT': 0.0029904306220095694,\n",
       " 'CD': 0.0026913875598086126,\n",
       " 'FW': 0.0029904306220095694,\n",
       " 'WDT': 0.0026913875598086126,\n",
       " 'SYM': 0.0002990430622009569,\n",
       " ':': 0.0008971291866028708,\n",
       " 'NNP': 0.0014952153110047847,\n",
       " 'JJR': 0.0020933014354066986,\n",
       " 'UH': 0.0011961722488038277,\n",
       " 'JJS': 0.0008971291866028708,\n",
       " 'EX': 0.0002990430622009569}"
      ]
     },
     "execution_count": 54,
     "metadata": {},
     "output_type": "execute_result"
    }
   ],
   "source": [
    "# tokenize all test set lyrics and calculate POS frequencies for each model\n",
    "# actual lyrics\n",
    "tokens = tokenize(all_actual_str)\n",
    "pos = nltk.pos_tag(tokens) # tag each token with its POS\n",
    "actual_counts={}\n",
    "for word, tag in pos:\n",
    "    if tag in actual_counts:\n",
    "        actual_counts[tag]+=1\n",
    "    else:\n",
    "        actual_counts[tag]=1\n",
    "# normalize\n",
    "for pos, count in actual_counts.items():\n",
    "    actual_counts[pos]= count/len(tokens)\n",
    "\n",
    "# tuned model predictions\n",
    "tokens = tokenize(all_tuned_preds_str)\n",
    "pos = nltk.pos_tag(tokens)\n",
    "tuned_pred_counts={}\n",
    "for word, tag in pos:\n",
    "    if tag in tuned_pred_counts:\n",
    "        tuned_pred_counts[tag]+=1\n",
    "    else:\n",
    "        tuned_pred_counts[tag]=1\n",
    "# normalize\n",
    "for pos, count in tuned_pred_counts.items():\n",
    "    tuned_pred_counts[pos]= count/len(tokens)\n",
    "    \n",
    "# naive model predictions\n",
    "tokens = tokenize(all_naive_preds_str)\n",
    "pos = nltk.pos_tag(tokens)\n",
    "naive_pred_counts={}\n",
    "for word, tag in pos:\n",
    "    if tag in naive_pred_counts:\n",
    "        naive_pred_counts[tag]+=1\n",
    "    else:\n",
    "        naive_pred_counts[tag]=1\n",
    "# normalize\n",
    "for pos, count in naive_pred_counts.items():\n",
    "    naive_pred_counts[pos]= count/len(tokens)\n",
    "\n",
    "naive_pred_counts # inspect one of the dictionaries"
   ]
  },
  {
   "cell_type": "code",
   "execution_count": 55,
   "metadata": {},
   "outputs": [
    {
     "data": {
      "text/html": [
       "<div>\n",
       "<style scoped>\n",
       "    .dataframe tbody tr th:only-of-type {\n",
       "        vertical-align: middle;\n",
       "    }\n",
       "\n",
       "    .dataframe tbody tr th {\n",
       "        vertical-align: top;\n",
       "    }\n",
       "\n",
       "    .dataframe thead th {\n",
       "        text-align: right;\n",
       "    }\n",
       "</style>\n",
       "<table border=\"1\" class=\"dataframe\">\n",
       "  <thead>\n",
       "    <tr style=\"text-align: right;\">\n",
       "      <th></th>\n",
       "      <th>actual</th>\n",
       "      <th>tuned_prediction</th>\n",
       "      <th>naive_prediction</th>\n",
       "    </tr>\n",
       "  </thead>\n",
       "  <tbody>\n",
       "    <tr>\n",
       "      <th>NN</th>\n",
       "      <td>0.198119</td>\n",
       "      <td>0.190882</td>\n",
       "      <td>0.179426</td>\n",
       "    </tr>\n",
       "    <tr>\n",
       "      <th>VB</th>\n",
       "      <td>0.091019</td>\n",
       "      <td>0.073529</td>\n",
       "      <td>0.090909</td>\n",
       "    </tr>\n",
       "    <tr>\n",
       "      <th>PRP</th>\n",
       "      <td>0.088896</td>\n",
       "      <td>0.097059</td>\n",
       "      <td>0.082536</td>\n",
       "    </tr>\n",
       "    <tr>\n",
       "      <th>JJ</th>\n",
       "      <td>0.082828</td>\n",
       "      <td>0.081471</td>\n",
       "      <td>0.090012</td>\n",
       "    </tr>\n",
       "    <tr>\n",
       "      <th>IN</th>\n",
       "      <td>0.074333</td>\n",
       "      <td>0.077647</td>\n",
       "      <td>0.080742</td>\n",
       "    </tr>\n",
       "    <tr>\n",
       "      <th>VBP</th>\n",
       "      <td>0.074029</td>\n",
       "      <td>0.073529</td>\n",
       "      <td>0.078050</td>\n",
       "    </tr>\n",
       "    <tr>\n",
       "      <th>RB</th>\n",
       "      <td>0.069782</td>\n",
       "      <td>0.067059</td>\n",
       "      <td>0.076854</td>\n",
       "    </tr>\n",
       "    <tr>\n",
       "      <th>DT</th>\n",
       "      <td>0.063410</td>\n",
       "      <td>0.075588</td>\n",
       "      <td>0.066687</td>\n",
       "    </tr>\n",
       "    <tr>\n",
       "      <th>PRP$</th>\n",
       "      <td>0.034891</td>\n",
       "      <td>0.037059</td>\n",
       "      <td>0.038577</td>\n",
       "    </tr>\n",
       "    <tr>\n",
       "      <th>CC</th>\n",
       "      <td>0.033374</td>\n",
       "      <td>0.032647</td>\n",
       "      <td>0.036184</td>\n",
       "    </tr>\n",
       "    <tr>\n",
       "      <th>VBD</th>\n",
       "      <td>0.030340</td>\n",
       "      <td>0.027353</td>\n",
       "      <td>0.024821</td>\n",
       "    </tr>\n",
       "    <tr>\n",
       "      <th>NNS</th>\n",
       "      <td>0.024272</td>\n",
       "      <td>0.027353</td>\n",
       "      <td>0.020335</td>\n",
       "    </tr>\n",
       "    <tr>\n",
       "      <th>VBZ</th>\n",
       "      <td>0.023362</td>\n",
       "      <td>0.028235</td>\n",
       "      <td>0.023624</td>\n",
       "    </tr>\n",
       "    <tr>\n",
       "      <th>TO</th>\n",
       "      <td>0.020631</td>\n",
       "      <td>0.015294</td>\n",
       "      <td>0.028110</td>\n",
       "    </tr>\n",
       "    <tr>\n",
       "      <th>VBG</th>\n",
       "      <td>0.016990</td>\n",
       "      <td>0.020294</td>\n",
       "      <td>0.015849</td>\n",
       "    </tr>\n",
       "    <tr>\n",
       "      <th>MD</th>\n",
       "      <td>0.013046</td>\n",
       "      <td>0.012647</td>\n",
       "      <td>0.010467</td>\n",
       "    </tr>\n",
       "    <tr>\n",
       "      <th>WRB</th>\n",
       "      <td>0.012743</td>\n",
       "      <td>0.015588</td>\n",
       "      <td>0.012261</td>\n",
       "    </tr>\n",
       "    <tr>\n",
       "      <th>VBN</th>\n",
       "      <td>0.012439</td>\n",
       "      <td>0.008529</td>\n",
       "      <td>0.011962</td>\n",
       "    </tr>\n",
       "    <tr>\n",
       "      <th>RP</th>\n",
       "      <td>0.007585</td>\n",
       "      <td>0.005294</td>\n",
       "      <td>0.005682</td>\n",
       "    </tr>\n",
       "    <tr>\n",
       "      <th>WP</th>\n",
       "      <td>0.005765</td>\n",
       "      <td>0.003235</td>\n",
       "      <td>0.006878</td>\n",
       "    </tr>\n",
       "    <tr>\n",
       "      <th>CD</th>\n",
       "      <td>0.004248</td>\n",
       "      <td>0.004118</td>\n",
       "      <td>0.002691</td>\n",
       "    </tr>\n",
       "    <tr>\n",
       "      <th>JJR</th>\n",
       "      <td>0.003944</td>\n",
       "      <td>0.003824</td>\n",
       "      <td>0.002093</td>\n",
       "    </tr>\n",
       "    <tr>\n",
       "      <th>WDT</th>\n",
       "      <td>0.003337</td>\n",
       "      <td>0.004118</td>\n",
       "      <td>0.002691</td>\n",
       "    </tr>\n",
       "    <tr>\n",
       "      <th>PDT</th>\n",
       "      <td>0.002427</td>\n",
       "      <td>0.003824</td>\n",
       "      <td>0.002990</td>\n",
       "    </tr>\n",
       "    <tr>\n",
       "      <th>UH</th>\n",
       "      <td>0.002124</td>\n",
       "      <td>0.003235</td>\n",
       "      <td>0.001196</td>\n",
       "    </tr>\n",
       "    <tr>\n",
       "      <th>FW</th>\n",
       "      <td>0.001820</td>\n",
       "      <td>0.005588</td>\n",
       "      <td>0.002990</td>\n",
       "    </tr>\n",
       "    <tr>\n",
       "      <th>EX</th>\n",
       "      <td>0.001517</td>\n",
       "      <td>0.002647</td>\n",
       "      <td>0.000299</td>\n",
       "    </tr>\n",
       "    <tr>\n",
       "      <th>RBR</th>\n",
       "      <td>0.001214</td>\n",
       "      <td>0.000882</td>\n",
       "      <td>0.001495</td>\n",
       "    </tr>\n",
       "    <tr>\n",
       "      <th>NNP</th>\n",
       "      <td>0.001214</td>\n",
       "      <td>0.001471</td>\n",
       "      <td>0.001495</td>\n",
       "    </tr>\n",
       "    <tr>\n",
       "      <th>POS</th>\n",
       "      <td>0.000303</td>\n",
       "      <td>NaN</td>\n",
       "      <td>NaN</td>\n",
       "    </tr>\n",
       "    <tr>\n",
       "      <th>SYM</th>\n",
       "      <td>NaN</td>\n",
       "      <td>NaN</td>\n",
       "      <td>0.000299</td>\n",
       "    </tr>\n",
       "    <tr>\n",
       "      <th>:</th>\n",
       "      <td>NaN</td>\n",
       "      <td>NaN</td>\n",
       "      <td>0.000897</td>\n",
       "    </tr>\n",
       "    <tr>\n",
       "      <th>JJS</th>\n",
       "      <td>NaN</td>\n",
       "      <td>NaN</td>\n",
       "      <td>0.000897</td>\n",
       "    </tr>\n",
       "  </tbody>\n",
       "</table>\n",
       "</div>"
      ],
      "text/plain": [
       "        actual  tuned_prediction  naive_prediction\n",
       "NN    0.198119          0.190882          0.179426\n",
       "VB    0.091019          0.073529          0.090909\n",
       "PRP   0.088896          0.097059          0.082536\n",
       "JJ    0.082828          0.081471          0.090012\n",
       "IN    0.074333          0.077647          0.080742\n",
       "VBP   0.074029          0.073529          0.078050\n",
       "RB    0.069782          0.067059          0.076854\n",
       "DT    0.063410          0.075588          0.066687\n",
       "PRP$  0.034891          0.037059          0.038577\n",
       "CC    0.033374          0.032647          0.036184\n",
       "VBD   0.030340          0.027353          0.024821\n",
       "NNS   0.024272          0.027353          0.020335\n",
       "VBZ   0.023362          0.028235          0.023624\n",
       "TO    0.020631          0.015294          0.028110\n",
       "VBG   0.016990          0.020294          0.015849\n",
       "MD    0.013046          0.012647          0.010467\n",
       "WRB   0.012743          0.015588          0.012261\n",
       "VBN   0.012439          0.008529          0.011962\n",
       "RP    0.007585          0.005294          0.005682\n",
       "WP    0.005765          0.003235          0.006878\n",
       "CD    0.004248          0.004118          0.002691\n",
       "JJR   0.003944          0.003824          0.002093\n",
       "WDT   0.003337          0.004118          0.002691\n",
       "PDT   0.002427          0.003824          0.002990\n",
       "UH    0.002124          0.003235          0.001196\n",
       "FW    0.001820          0.005588          0.002990\n",
       "EX    0.001517          0.002647          0.000299\n",
       "RBR   0.001214          0.000882          0.001495\n",
       "NNP   0.001214          0.001471          0.001495\n",
       "POS   0.000303               NaN               NaN\n",
       "SYM        NaN               NaN          0.000299\n",
       ":          NaN               NaN          0.000897\n",
       "JJS        NaN               NaN          0.000897"
      ]
     },
     "execution_count": 55,
     "metadata": {},
     "output_type": "execute_result"
    }
   ],
   "source": [
    "# inspect the part of speech frequencies in a dataframe\n",
    "pos_dist = pd.concat([pd.Series(actual_counts),pd.Series(tuned_pred_counts),pd.Series(naive_pred_counts)],axis=1).rename(columns={0:'actual', 1:'tuned_prediction', 2:'naive_prediction'}).sort_values('actual',ascending=False)\n",
    "pos_dist"
   ]
  },
  {
   "cell_type": "code",
   "execution_count": 90,
   "metadata": {},
   "outputs": [],
   "source": [
    "# visualize the pos distribution for each model alongside original lyrics\n",
    "ind = np.arange(len(pos_dist))\n",
    "width = .3\n",
    "plt.figure(figsize=[12,7])\n",
    "plt.bar(ind+.5*width, pos_dist.tuned_prediction, .3, label='Tuned Predicted Lyrics', color='teal')\n",
    "plt.bar(ind-.5*width, pos_dist.naive_prediction, .3, label='Naive Predicted Lyrics', color='orange')\n",
    "plt.bar(ind+1.5*width, pos_dist.actual, .3, label='Original Lyrics', color='purple')\n",
    "plt.xticks(rotation=55)\n",
    "plt.legend()\n",
    "plt.title(\"Part of Speech Distribution of Lyrics\")\n",
    "plt.xlabel('Part of Speech')\n",
    "plt.ylabel('Word Count')\n",
    "plt.xticks(ind + width/2 , (pos_dist.index),rotation=55)\n",
    "plt.tick_params(axis='x', which='major', labelsize=12)\n",
    "# plt.show();\n",
    "plt.savefig('temp/pos.png', transparent=True);"
   ]
  },
  {
   "cell_type": "markdown",
   "metadata": {},
   "source": [
    "We observe that part-of-speech distribution is very similar between our tuned model and the original lyrics. However, this is also the case for the naive model, so this does not provide us with information on how well our model learned through finetuning.\n",
    "## Count Frequency\n",
    "We calculate the word frequencies of different words within the generated lyrics to determine which words are most popular. If our model has learned the style of Beatles lyrics through finetuning, we expect to see similar words in our most frequent words of the tuned model and the actual lyrics."
   ]
  },
  {
   "cell_type": "code",
   "execution_count": 57,
   "metadata": {},
   "outputs": [],
   "source": [
    "# make a list of stopwords\n",
    "nltk_stop_words = list(stopwords.words('english'))\n",
    "stop_words = list(get_stop_words('en'))\n",
    "stop_words.extend(nltk_stop_words)\n",
    "\n",
    "# remove all stopwords from the predicted/actual lyrics\n",
    "all_actual_str_no_stop = [w for w in tokenize(all_actual_str) if not w in stop_words]\n",
    "all_naive_preds_str_no_stop = [w for w in tokenize(all_naive_preds_str) if not w in stop_words]\n",
    "all_tuned_preds_str_no_stop = [w for w in tokenize(all_tuned_preds_str) if not w in stop_words]\n"
   ]
  },
  {
   "cell_type": "code",
   "execution_count": 58,
   "metadata": {},
   "outputs": [
    {
     "name": "stdout",
     "output_type": "stream",
     "text": [
      "Lyrics with stopwords:\n",
      " ['let', 'me', 'down', \"don't\", 'let', 'me', 'down', \"don't\", 'let', 'me']\n",
      "Lyrics without stopwords:\n",
      " ['let', 'let', 'let', 'love', 'first', 'time', 'know', 'gonna', 'last', 'love']\n"
     ]
    }
   ],
   "source": [
    "# inspect sample lyrics with and without stopwords\n",
    "print(\"Lyrics with stopwords:\\n\",tokenize(all_actual_str)[:10])\n",
    "print(\"Lyrics without stopwords:\\n\",all_actual_str_no_stop[:10])"
   ]
  },
  {
   "cell_type": "markdown",
   "metadata": {},
   "source": [
    "### Plot most frequent words from predictions and actual lyrics"
   ]
  },
  {
   "cell_type": "code",
   "execution_count": 71,
   "metadata": {},
   "outputs": [
    {
     "data": {
      "image/png": "[encoded data removed]",
      "text/plain": [
       "<Figure size 640x480 with 1 Axes>"
      ]
     },
     "metadata": {},
     "output_type": "display_data"
    }
   ],
   "source": [
    "# plot the frequency distribution of each token in original lyrics\n",
    "dist_actual = nltk.FreqDist(all_actual_str_no_stop)\n",
    "for word, count in dist_actual.items():\n",
    "    dist_actual[word]= count/len(all_actual_str_no_stop)\n",
    "filter_words = dict([(m, n) for m, n in dist_actual.items() if len(m) > 2])\n",
    "dist_actual = nltk.FreqDist(filter_words)\n",
    "dist_actual.plot(20, cumulative=False);\n",
    "plt.title('Frequent Words in Original Lyrics');\n"
   ]
  },
  {
   "cell_type": "code",
   "execution_count": 73,
   "metadata": {},
   "outputs": [
    {
     "data": {
      "image/png": "[encoded data removed]",
      "text/plain": [
       "<Figure size 640x480 with 1 Axes>"
      ]
     },
     "metadata": {},
     "output_type": "display_data"
    }
   ],
   "source": [
    "# plot the frequency distribution of each token in naive model lyrics\n",
    "dist_naive = nltk.FreqDist(all_naive_preds_str_no_stop)\n",
    "for word, count in dist_naive.items():\n",
    "    dist_naive[word]= count/len(all_naive_preds_str_no_stop)\n",
    "filter_words = dict([(m, n) for m, n in dist_naive.items() if len(m) > 2])\n",
    "dist_naive = nltk.FreqDist(filter_words)\n",
    "dist_naive.plot(20, cumulative=False);\n",
    "plt.title('Frequent Words in Generated Lyrics (Naive)');"
   ]
  },
  {
   "cell_type": "code",
   "execution_count": 75,
   "metadata": {},
   "outputs": [
    {
     "data": {
      "image/png": "[encoded data removed]",
      "text/plain": [
       "<Figure size 640x480 with 1 Axes>"
      ]
     },
     "metadata": {},
     "output_type": "display_data"
    }
   ],
   "source": [
    "dist_tuned = nltk.FreqDist(all_tuned_preds_str_no_stop)\n",
    "for word, count in dist_tuned.items():\n",
    "    dist_tuned[word]= count/len(all_tuned_preds_str_no_stop)\n",
    "filter_words = dict([(m, n) for m, n in dist_tuned.items() if len(m) > 2])\n",
    "dist_tuned = nltk.FreqDist(filter_words)\n",
    "dist_tuned.plot(20, cumulative=False);\n",
    "plt.title('Frequent Words in Generated Lyrics (Tuned)');"
   ]
  },
  {
   "cell_type": "markdown",
   "metadata": {},
   "source": [
    "### Percentages of top words\n",
    "We calculate the percent of the most frequent 30 words in actual lyrics that are also present in model-generated lyrics"
   ]
  },
  {
   "cell_type": "code",
   "execution_count": 76,
   "metadata": {},
   "outputs": [
    {
     "data": {
      "text/plain": [
       "['love',\n",
       " 'girl',\n",
       " 'like',\n",
       " 'please',\n",
       " 'want',\n",
       " 'time',\n",
       " 'well',\n",
       " 'never',\n",
       " 'forget',\n",
       " 'man']"
      ]
     },
     "execution_count": 76,
     "metadata": {},
     "output_type": "execute_result"
    }
   ],
   "source": [
    "# sort each frequency dictionary to get top words for each model\n",
    "sorted_actual = [name for name, count in sorted(dist_actual.items(), reverse=True, key=lambda x:x[1])]\n",
    "sorted_tuned = [name for name, count in sorted(dist_tuned.items(), reverse=True, key=lambda x:x[1])]\n",
    "sorted_naive = [name for name, count in sorted(dist_naive.items(), reverse=True, key=lambda x:x[1])]\n",
    "sorted_naive[:10]"
   ]
  },
  {
   "cell_type": "code",
   "execution_count": 77,
   "metadata": {},
   "outputs": [],
   "source": [
    "# count number of top 30 words that are present in predicted text\n",
    "num_top_words_naive = 0\n",
    "num_top_words_tuned = 0\n",
    "for top_word in sorted_actual[:30]:\n",
    "    if top_word in sorted_tuned[:30]:\n",
    "        num_top_words_tuned+=1\n",
    "    if top_word in sorted_naive[:30]:\n",
    "        num_top_words_naive+=1\n"
   ]
  },
  {
   "cell_type": "code",
   "execution_count": 78,
   "metadata": {},
   "outputs": [
    {
     "name": "stdout",
     "output_type": "stream",
     "text": [
      "Naive model's predictions contain 0.53% of the top 30 words from Beatles lyrics\n",
      "Tuned model's predictions contain 0.63% of the top 30 words from Beatles lyrics\n"
     ]
    }
   ],
   "source": [
    "print(f\"Naive model's predictions contain {round(num_top_words_naive/30,2)}% of the top 30 words from Beatles lyrics\")\n",
    "print(f\"Tuned model's predictions contain {round(num_top_words_tuned/30,2)}% of the top 30 words from Beatles lyrics\")"
   ]
  },
  {
   "cell_type": "markdown",
   "metadata": {},
   "source": [
    "We observe that the tuned model contains a higher percentage of the most frequent words used in actual Beatles song lyrics.\n",
    "## Free Text Generation\n",
    "We generate text samples using each model with an open-ended prompt, toggling the Temperature parameter to determine an optimal balance between exploration and exploitation\n",
    "### Naive Model Predictions"
   ]
  },
  {
   "cell_type": "code",
   "execution_count": 82,
   "metadata": {},
   "outputs": [
    {
     "name": "stderr",
     "output_type": "stream",
     "text": [
      "Setting `pad_token_id` to `eos_token_id`:50256 for open-end generation.\n"
     ]
    },
    {
     "name": "stdout",
     "output_type": "stream",
     "text": [
      "I am going to make sure that the people who have been affected by this are given the opportunity to have their voices heard.\"\n",
      "\n",
      "The committee's report is expected to be released in the next few weeks.\n"
     ]
    }
   ],
   "source": [
    "# Temp .3\n",
    "output = naive_model(\"I am going\", max_length=100, num_return_sequences=1, temperature=.3)[0]['generated_text']\n",
    "print(output)"
   ]
  },
  {
   "cell_type": "code",
   "execution_count": 83,
   "metadata": {},
   "outputs": [
    {
     "name": "stderr",
     "output_type": "stream",
     "text": [
      "Setting `pad_token_id` to `eos_token_id`:50256 for open-end generation.\n"
     ]
    },
    {
     "name": "stdout",
     "output_type": "stream",
     "text": [
      "I am going to start reading them now and don't worry, I'm not about to stop.\" He said as he picked up the books. \"I haven't decided yet which one I'm going to read or if I'm going to stick with this one, you really should have this book, this is one hell of an action story.\"\n",
      "\n",
      "\"I wish we could see the movie of the same title,\" Ruby mumbled. He smirked and added, \"But I have a feeling\n"
     ]
    }
   ],
   "source": [
    "# Temp 1.0\n",
    "output = naive_model(\"I am going\", max_length=100, num_return_sequences=1, temperature=1.0)[0]['generated_text']\n",
    "print(output)"
   ]
  },
  {
   "cell_type": "code",
   "execution_count": 84,
   "metadata": {},
   "outputs": [
    {
     "name": "stderr",
     "output_type": "stream",
     "text": [
      "Setting `pad_token_id` to `eos_token_id`:50256 for open-end generation.\n"
     ]
    },
    {
     "name": "stdout",
     "output_type": "stream",
     "text": [
      "I am going crazy!\" said Mrs Fyler again. Mrs Marston's head rose as soon as the door unlocked but it was quickly locked tight again, even more tightly. When all was done, this was their last surprise and all hell to hold, Mrs Marston just gave an exclamation of 'Good evening', while her companion dropped the telephone back into Ms Avelridge's hands.\n",
      " \"But I said I was coming along\" cried she, turning herself into an iron arch,\n"
     ]
    }
   ],
   "source": [
    "# Temp 2.0\n",
    "output = naive_model(\"I am going\", max_length=100, num_return_sequences=1, temperature=2.0)[0]['generated_text']\n",
    "print(output)"
   ]
  },
  {
   "cell_type": "code",
   "execution_count": 85,
   "metadata": {},
   "outputs": [
    {
     "name": "stderr",
     "output_type": "stream",
     "text": [
      "Setting `pad_token_id` to `eos_token_id`:50256 for open-end generation.\n"
     ]
    },
    {
     "name": "stdout",
     "output_type": "stream",
     "text": [
      "I am going,\" is really quite simple: just do not eat at your current or your former job after four, what we'd consider good hygiene days.\" -- Bill O'Sheff\n",
      "\n",
      "When asked to say who were three qualities in the U.S. for whom an eating plan should fit – how the U. \"No person working for themselves,\" not under a union would actually satisfy O'Neill in keeping those hours a person with work requirements who did most work could work those times at\n"
     ]
    }
   ],
   "source": [
    "# Temp 3.0\n",
    "output = naive_model(\"I am going\", max_length=100, num_return_sequences=1, temperature=3.0)[0]['generated_text']\n",
    "print(output)"
   ]
  },
  {
   "cell_type": "markdown",
   "metadata": {},
   "source": [
    "### Finetuned Model Predictions"
   ]
  },
  {
   "cell_type": "code",
   "execution_count": 100,
   "metadata": {},
   "outputs": [
    {
     "name": "stdout",
     "output_type": "stream",
     "text": [
      "I am going to get you, I am going to get you in the end Yes I am going to get you in the end Oh yeah, oh yeah I think about you night and day I need you and it's true When I think about you, I can say I'm never, never, never, never blue So I'm telling you, my friend That I'll get you, I'm going to get you in the end Yes I am going to get you in the end Oh yeah,\n"
     ]
    }
   ],
   "source": [
    "# Temp 0.3\n",
    "output = generate_text('saved_model', \"I am going\", 100, temp=.3)\n",
    "print(output)"
   ]
  },
  {
   "cell_type": "code",
   "execution_count": 102,
   "metadata": {},
   "outputs": [
    {
     "name": "stdout",
     "output_type": "stream",
     "text": [
      "I am going to Kansas City for the All American CrabFest') And I get to the top of the slide And I see this big old blue taxman sitting there Taxman! I get to my feet Taxman, taxman! Woo taxman! Woo taxman! And he licks my finger Woo taxman, taxman! Woo taxman!  There were bells on a hill But I never heard them ringing No, I never heard them at all Till there was you There were birds\n"
     ]
    }
   ],
   "source": [
    "# Temp 1.0\n",
    "output = generate_text('saved_model', \"I am going\", 100, temp=1.0)\n",
    "print(output)"
   ]
  },
  {
   "cell_type": "code",
   "execution_count": 101,
   "metadata": {},
   "outputs": [
    {
     "name": "stdout",
     "output_type": "stream",
     "text": [
      "I am going to get 'em,'\" he says matter-of-factly \"You better leave me alone.\" And he goes And he never returns\n",
      " and he never even says goodbye As I'm sitting here doing nothing but aging (Agh) The men of my generation slither while their horses are genie-literati (Float down stream) The younger generation flies at the sun (Birthday cake) While my mother tongue is dying From aging (Ooh) Forever on end (Ah\n"
     ]
    }
   ],
   "source": [
    "# Temp 2.0\n",
    "output = generate_text('saved_model', \"I am going\", 100, temp=2.0)\n",
    "print(output)"
   ]
  },
  {
   "cell_type": "code",
   "execution_count": 109,
   "metadata": {},
   "outputs": [
    {
     "name": "stdout",
     "output_type": "stream",
     "text": [
      "I am going to leave Memphis, Tennessee Because...\" Oh now I've found my calling here in Amarillo, Texas Here I can morn in blue all night long I can hear the games in the park Before the bus arrives Everybody says the jukebox will never drop They're damn near bullshitting Yeah! Singingbirds singing songs in a canteen Speaking Tamil in between texters Eating bacon alone in the hope it brings happiness Please, just come on me I don't care if there's\n"
     ]
    }
   ],
   "source": [
    "# Temp 3.0\n",
    "output = generate_text('saved_model', \"I am going\", 100, temp=3.0)\n",
    "print(output)"
   ]
  },
  {
   "cell_type": "markdown",
   "metadata": {},
   "source": [
    "We observe that the naive model generates coherent text, but it does not follow the rhythmic pattern of a song, and appears to be an excerpt from a story.<br>\n",
    "At the lowest temperature, the tuned model generates text identical to that of the Beatles song I'll Get You.<br>\n",
    "At a temperature of 1.0, the trained model generates lyrics reminiscent of the Beatles song Taxman, though many of the words are changed.<br>\n",
    "The remaining two predictions at temperatures 2.0 and 3.0 do not appear to resemble any specific Beatles song, though rhythmically and in subject-matter, they do appear to have similarities."
   ]
  },
  {
   "cell_type": "code",
   "execution_count": null,
   "metadata": {},
   "outputs": [],
   "source": []
  }
 ],
 "metadata": {
  "instance_type": "ml.m5.large",
  "kernelspec": {
   "display_name": "Python 3 (Data Science)",
   "language": "python",
   "name": "python3__SAGEMAKER_INTERNAL__arn:aws:sagemaker:us-east-1:081325390199:image/datascience-1.0"
  },
  "language_info": {
   "codemirror_mode": {
    "name": "ipython",
    "version": 3
   },
   "file_extension": ".py",
   "mimetype": "text/x-python",
   "name": "python",
   "nbconvert_exporter": "python",
   "pygments_lexer": "ipython3",
   "version": "3.7.10"
  }
 },
 "nbformat": 4,
 "nbformat_minor": 4
}
