{
 "cells": [
  {
   "cell_type": "code",
   "execution_count": null,
   "metadata": {},
   "outputs": [],
   "source": []
  },
  {
   "cell_type": "code",
   "execution_count": null,
   "metadata": {},
   "outputs": [],
   "source": []
  },
  {
   "cell_type": "code",
   "execution_count": 32,
   "metadata": {},
   "outputs": [],
   "source": [
    "import requests\n",
    "from bs4 import BeautifulSoup"
   ]
  },
  {
   "cell_type": "code",
   "execution_count": 36,
   "metadata": {},
   "outputs": [],
   "source": [
    "response = requests.get('https://www.azlyrics.com/b/beatles.html')\n",
    "soup = BeautifulSoup(response.text, 'html.parser')"
   ]
  },
  {
   "cell_type": "code",
   "execution_count": 37,
   "metadata": {},
   "outputs": [
    {
     "data": {
      "text/plain": [
       "[]"
      ]
     },
     "execution_count": 37,
     "metadata": {},
     "output_type": "execute_result"
    }
   ],
   "source": [
    "soup.find_all(\"div\", {\"class\": \"listalbum-item\"})"
   ]
  },
  {
   "cell_type": "code",
   "execution_count": 38,
   "metadata": {},
   "outputs": [
    {
     "data": {
      "text/plain": [
       "<!DOCTYPE html>\n",
       "\n",
       "<html lang=\"en\">\n",
       "<head>\n",
       "<meta charset=\"utf-8\"/>\n",
       "<meta content=\"IE=edge\" http-equiv=\"X-UA-Compatible\"/>\n",
       "<meta content=\"width=device-width, initial-scale=1\" name=\"viewport\"/>\n",
       "<meta content=\"noindex,nofollow\" name=\"robots\"/>\n",
       "<title>AZLyrics - request for access</title>\n",
       "<link crossorigin=\"anonymous\" href=\"https://maxcdn.bootstrapcdn.com/bootstrap/3.3.7/css/bootstrap.min.css\" integrity=\"sha384-BVYiiSIFeK1dGmJRAkycuHAHRg32OmUcww7on3RYdg4Va+PmSTsz/K68vbdEjh4u\" rel=\"stylesheet\"/>\n",
       "<link href=\"https://code.jquery.com/ui/1.12.1/themes/base/jquery-ui.min.css\" rel=\"stylesheet\"/>\n",
       "<link href=\"/bsaz.css\" rel=\"stylesheet\"/>\n",
       "<!-- HTML5 shim and Respond.js for IE8 support of HTML5 elements and media queries -->\n",
       "<!--[if lt IE 9]>\n",
       "      <script src=\"https://oss.maxcdn.com/html5shiv/3.7.2/html5shiv.min.js\"></script>\n",
       "      <script src=\"https://oss.maxcdn.com/respond/1.4.2/respond.min.js\"></script>\n",
       "    <![endif]-->\n",
       "<script crossorigin=\"anonymous\" integrity=\"sha256-ZosEbRLbNQzLpnKIkEdrPv7lOy9C27hHQ+Xp8a4MxAQ=\" src=\"https://code.jquery.com/jquery-1.12.4.min.js\"></script>\n",
       "<script src=\"https://code.jquery.com/ui/1.12.1/jquery-ui.min.js\"></script>\n",
       "<script crossorigin=\"anonymous\" integrity=\"sha384-Tc5IQib027qvyjSMfHjOMaLkfuWVxZxUPnCJA7l2mCWNIpG9mGCD8wGNIcPD7Txa\" src=\"https://maxcdn.bootstrapcdn.com/bootstrap/3.3.7/js/bootstrap.min.js\"></script>\n",
       "<script type=\"text/javascript\">\n",
       "    <!-- \n",
       "      if (top.location != self.location) {\n",
       "      top.location = self.location.href\n",
       "     }\n",
       "    //--> \n",
       "    function az_recaptcha_success(){\n",
       "        document.getElementById(\"az_unblock\").submit();\n",
       "    }\n",
       "    var az_recaptcha_to;\n",
       "    function az_recaptcha_loaded() {\n",
       "        if(az_recaptcha_to) {\n",
       "            clearTimeout(az_recaptcha_to);\n",
       "            document.getElementById(\"az_unblock_loader\").style.display='none';\n",
       "            document.getElementById(\"az_captcha_container\").style.display='none';\n",
       "            document.getElementById(\"az_unblock_container\").style.display='block';\n",
       "        }\n",
       "    }\n",
       "    function az_captcha_show_our(){\n",
       "        var el_captcha_our = document.getElementById(\"az_captcha_our\");\n",
       "        if(el_captcha_our) {\n",
       "            document.getElementById(\"az_unblock_loader\").style.display='none';\n",
       "            document.getElementById(\"az_unblock_container\").style.display='none';\n",
       "            document.getElementById(\"az_captcha_container\").style.display='block';\n",
       "            document.getElementById(\"az_captcha_our\").innerHTML = '<img src=\"/cimg.php?' + Math.random() + '\" /><br />';\n",
       "        }\n",
       "    }\n",
       "    az_recaptcha_to = setTimeout(az_captcha_show_our, 12000);\n",
       "    </script>\n",
       "<script async=\"\" defer=\"\" src=\"https://www.google.com/recaptcha/api.js?onload=az_recaptcha_loaded\"></script>\n",
       "</head>\n",
       "<body>\n",
       "<nav class=\"navbar navbar-default navbar-static-top text-center\">\n",
       "<div class=\"container text-center\">\n",
       "<div class=\"navbar-header\" style=\"float:none; display:inline-block;\">\n",
       "<a class=\"navbar-brand\" href=\"https://www.azlyrics.com\"><img alt=\"AZLyrics.com\" class=\"pull-left\" src=\"/az_logo_tr.png\" style=\"max-height:40px; margin-top:-10px;\"/></a>\n",
       "</div>\n",
       "</div><!-- /.container -->\n",
       "</nav>\n",
       "<!-- top ban -->\n",
       "<!--  <div class=\"lboard-wrap\">\n",
       "  <div class=\"container\">\n",
       "    <div class=\"row\">\n",
       "       <div class=\"col-xs-12 top-ad text-center\">\n",
       "         <span id=\"cf_banner_top_nofc\"></span>\n",
       "       </div>\n",
       "    </div>\n",
       "  </div>\n",
       "  </div> -->\n",
       "<!-- main -->\n",
       "<div class=\"container main-page\">\n",
       "<div class=\"row\">\n",
       "<div class=\"col-xs-12 col-sm-10 col-sm-offset-1 col-md-8 col-md-offset-2 text-center\">\n",
       "<div class=\"alert alert-info\"><b>\n",
       "              Our systems have detected unusual activity from your IP address (computer network). <br/>\n",
       "              This page checks to see if it's really you sending the requests, and not a robot.\n",
       "      </b></div>\n",
       "<div class=\"panel\">\n",
       "<div class=\"panel-body\">\n",
       "<div id=\"az_unblock_loader\">\n",
       "<div class=\"alert alert-warning\">\n",
       "<span aria-hidden=\"true\" class=\"glyphicon glyphicon-hourglass\"></span> We're checking your browser, please wait...\n",
       "            </div>\n",
       "</div>\n",
       "<div id=\"az_unblock_container\" style=\"display:none;\">\n",
       "<div class=\"alert alert-warning\">Please check the box below to regain access to AZLyrics.com.</div>\n",
       "<form id=\"az_unblock\" method=\"POST\">\n",
       "<div class=\"form-group\">\n",
       "<div class=\"g-recaptcha\" data-callback=\"az_recaptcha_success\" data-sitekey=\"6Le3KzMUAAAAAILzez0f7PnFiFboGPKt0qpkINXw\" style=\"margin: 0 auto; width: 304px;\"></div>\n",
       "</div>\n",
       "<div class=\"alert\" id=\"resultBlock\" style=\"display: none\"></div>\n",
       "</form>\n",
       "</div>\n",
       "<div id=\"az_captcha_container\" style=\"display:none;\">\n",
       "<div id=\"az_captcha_our\"></div>\n",
       "<form id=\"az_unblock_our\" method=\"POST\">\n",
       "<div class=\"form-group\">\n",
       "<label for=\"az_captcha_input\">Type the characters from the picture above:</label><br/>\n",
       "<input class=\"form-control\" id=\"az_captcha_input\" name=\"az_captcha_input\" style=\"width:200px; display:inline-block;\" type=\"text\" value=\"\"/>\n",
       "<p class=\"help-block\">Input is case-insensitive</p>\n",
       "</div>\n",
       "<button class=\"btn btn-primary\" id=\"submitButton\" type=\"submit\">Submit</button>\n",
       "<input name=\"az_captcha_in\" type=\"hidden\" value=\"1\"/>\n",
       "</form>\n",
       "</div>\n",
       "</div>\n",
       "</div>\n",
       "</div>\n",
       "</div>\n",
       "</div> <!-- container main-page -->\n",
       "<!-- bot ban -->\n",
       "<!--<div class=\"lboard-wrap\">\n",
       "  <div class=\"container\">\n",
       "    <div class=\"row\">\n",
       "       <div class=\"col-xs-12 top-ad text-center\">\n",
       "          <span id=\"cf_banner_bottom\"></span>\n",
       "       </div>\n",
       "    </div>\n",
       "  </div>\n",
       "  </div>-->\n",
       "<!-- footer -->\n",
       "<!--<nav class=\"navbar navbar-footer\">\n",
       "          <div class=\"container text-center\">\n",
       "          <ul class=\"nav navbar-nav navbar-center\">\n",
       "            <li><a href=\"//www.azlyrics.com/adv.html\">Advertise Here</a></li>\n",
       "            <li><a href=\"//www.azlyrics.com/privacy.html\">Privacy Policy</a></li>\n",
       "            <li><a href=\"//www.azlyrics.com/cookie.html\">Cookie Policy</a></li>\n",
       "            <li><a href=\"//www.azlyrics.com/copyright.html\">DMCA Policy</a></li>\n",
       "          </ul>\n",
       "          </div> \n",
       "     </nav>-->\n",
       "<div class=\"footer-wrap\">\n",
       "<div class=\"container\">\n",
       "<small>\n",
       "<script type=\"text/javascript\">\n",
       "                curdate=new Date();\n",
       "                document.write(\"<strong>Copyright &copy; 2000-\"+curdate.getFullYear()+\" AZLyrics.com<\\/strong>\");\n",
       "             </script>\n",
       "</small>\n",
       "</div>\n",
       "</div>\n",
       "</body>\n",
       "</html>"
      ]
     },
     "execution_count": 38,
     "metadata": {},
     "output_type": "execute_result"
    }
   ],
   "source": [
    "soup"
   ]
  },
  {
   "cell_type": "code",
   "execution_count": null,
   "metadata": {},
   "outputs": [],
   "source": []
  }
 ],
 "metadata": {
  "instance_type": "ml.t3.medium",
  "kernelspec": {
   "display_name": "Python 3 (Data Science)",
   "language": "python",
   "name": "python3__SAGEMAKER_INTERNAL__arn:aws:sagemaker:us-east-1:081325390199:image/datascience-1.0"
  },
  "language_info": {
   "codemirror_mode": {
    "name": "ipython",
    "version": 3
   },
   "file_extension": ".py",
   "mimetype": "text/x-python",
   "name": "python",
   "nbconvert_exporter": "python",
   "pygments_lexer": "ipython3",
   "version": "3.7.10"
  }
 },
 "nbformat": 4,
 "nbformat_minor": 4
}
