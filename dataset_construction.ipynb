{
 "cells": [
  {
   "cell_type": "markdown",
   "metadata": {},
   "source": [
    "# Dataset Construction\n",
    "This notebook retrieves all Beatles song lyrics from [azlyrics.com](www.azlyrics.com/b/beatles.html), cleans them, and stores them as training and test sets.\n",
    "## Song Lyric Generation with GPT-2\n",
    "**Data Mining Final Project**<br>\n",
    "Khyatee Desai<br>Dec. 19, 2022"
   ]
  },
  {
   "cell_type": "code",
   "execution_count": 4,
   "metadata": {},
   "outputs": [],
   "source": [
    "import requests\n",
    "from bs4 import BeautifulSoup\n",
    "import pandas as pd"
   ]
  },
  {
   "cell_type": "code",
   "execution_count": 7,
   "metadata": {},
   "outputs": [],
   "source": [
    "# scrape azlyrics beatles page\n",
    "response = requests.get('http://api.scraperapi.com?api_key=2b16bc9cefddc87cc1b93d1f7848fe0c&url=https://www.azlyrics.com/b/beatles.html')\n",
    "soup = BeautifulSoup(response.text, 'html.parser')\n"
   ]
  },
  {
   "cell_type": "code",
   "execution_count": 8,
   "metadata": {},
   "outputs": [
    {
     "data": {
      "text/plain": [
       "['https://www.azlyrics.com//lyrics/beatles/isawherstandingthere.html',\n",
       " 'https://www.azlyrics.com//lyrics/beatles/misery.html',\n",
       " 'https://www.azlyrics.com//lyrics/beatles/annagotohim.html',\n",
       " 'https://www.azlyrics.com//lyrics/beatles/chains.html',\n",
       " 'https://www.azlyrics.com//lyrics/beatles/boys.html',\n",
       " 'https://www.azlyrics.com//lyrics/beatles/askmewhy.html',\n",
       " 'https://www.azlyrics.com//lyrics/beatles/pleasepleaseme.html',\n",
       " 'https://www.azlyrics.com//lyrics/beatles/lovemedo.html',\n",
       " 'https://www.azlyrics.com//lyrics/beatles/psiloveyou.html',\n",
       " 'https://www.azlyrics.com//lyrics/beatles/babyitsyou.html']"
      ]
     },
     "execution_count": 8,
     "metadata": {},
     "output_type": "execute_result"
    }
   ],
   "source": [
    "# locate all div tag links - each link goes to a unique song's lyric page\n",
    "albums = soup.find_all(\"div\", {\"class\": \"listalbum-item\"})\n",
    "links=[]\n",
    "for album in albums:\n",
    "    if album.find('a'):\n",
    "        links.append('https://www.azlyrics.com/'+album.find('a')['href'])\n",
    "links[:10] # inspect first few links"
   ]
  },
  {
   "cell_type": "code",
   "execution_count": 137,
   "metadata": {},
   "outputs": [],
   "source": [
    "cleaned_lyrics=[]\n",
    "for link in links:\n",
    "    try:  # scrape the lyrics page of each link and save the lyrics to a list\n",
    "        response = requests.get('http://api.scraperapi.com?api_key=2b16bc9cefddc87cc1b93d1f7848fe0c&url='+link)\n",
    "        soup = BeautifulSoup(response.text, 'html.parser')\n",
    "        lyric_section = soup.find('div',{'class':'col-xs-12 col-lg-8 text-center'})\n",
    "        lyrics = lyric_section.find_all('div')[5].text\n",
    "        cleaned = lyrics.replace(\"\\n\\r\\n\",\"\").replace(\"\\n\\n\",\" \").replace(\"\\n\",\" \")\n",
    "        cleaned_lyrics.append(cleaned)\n",
    "    except:\n",
    "        print(link)\n",
    "        continue"
   ]
  },
  {
   "cell_type": "code",
   "execution_count": 139,
   "metadata": {},
   "outputs": [
    {
     "data": {
      "text/plain": [
       "416"
      ]
     },
     "execution_count": 139,
     "metadata": {},
     "output_type": "execute_result"
    }
   ],
   "source": [
    "len(cleaned_lyrics)"
   ]
  },
  {
   "cell_type": "code",
   "execution_count": 11,
   "metadata": {},
   "outputs": [
    {
     "data": {
      "text/html": [
       "<div>\n",
       "<style scoped>\n",
       "    .dataframe tbody tr th:only-of-type {\n",
       "        vertical-align: middle;\n",
       "    }\n",
       "\n",
       "    .dataframe tbody tr th {\n",
       "        vertical-align: top;\n",
       "    }\n",
       "\n",
       "    .dataframe thead th {\n",
       "        text-align: right;\n",
       "    }\n",
       "</style>\n",
       "<table border=\"1\" class=\"dataframe\">\n",
       "  <thead>\n",
       "    <tr style=\"text-align: right;\">\n",
       "      <th></th>\n",
       "      <th>lyrics</th>\n",
       "    </tr>\n",
       "  </thead>\n",
       "  <tbody>\n",
       "    <tr>\n",
       "      <th>0</th>\n",
       "      <td>(1,2,3,4!) Well, she was just seventeen You kn...</td>\n",
       "    </tr>\n",
       "    <tr>\n",
       "      <th>1</th>\n",
       "      <td>The world is treating me bad... Misery I'm the...</td>\n",
       "    </tr>\n",
       "    <tr>\n",
       "      <th>2</th>\n",
       "      <td>Anna You come and ask me, girl To set you free...</td>\n",
       "    </tr>\n",
       "    <tr>\n",
       "      <th>3</th>\n",
       "      <td>Chains, my baby's got me locked up in chains A...</td>\n",
       "    </tr>\n",
       "    <tr>\n",
       "      <th>4</th>\n",
       "      <td>I been told when a boy kiss a girl Take a trip...</td>\n",
       "    </tr>\n",
       "    <tr>\n",
       "      <th>...</th>\n",
       "      <td>...</td>\n",
       "    </tr>\n",
       "    <tr>\n",
       "      <th>421</th>\n",
       "      <td>Oh yeah, all right Are you going to be in my d...</td>\n",
       "    </tr>\n",
       "    <tr>\n",
       "      <th>422</th>\n",
       "      <td>Oh no brother Can you take me, can you take me...</td>\n",
       "    </tr>\n",
       "    <tr>\n",
       "      <th>423</th>\n",
       "      <td>Gnik nus eht semoc ereh Gnik nus eht semoc ere...</td>\n",
       "    </tr>\n",
       "    <tr>\n",
       "      <th>424</th>\n",
       "      <td>Happy birthday to you (to you) Happy birthday ...</td>\n",
       "    </tr>\n",
       "    <tr>\n",
       "      <th>425</th>\n",
       "      <td>Standing in the garden waiting for the sun to ...</td>\n",
       "    </tr>\n",
       "  </tbody>\n",
       "</table>\n",
       "<p>426 rows × 1 columns</p>\n",
       "</div>"
      ],
      "text/plain": [
       "                                                lyrics\n",
       "0    (1,2,3,4!) Well, she was just seventeen You kn...\n",
       "1    The world is treating me bad... Misery I'm the...\n",
       "2    Anna You come and ask me, girl To set you free...\n",
       "3    Chains, my baby's got me locked up in chains A...\n",
       "4    I been told when a boy kiss a girl Take a trip...\n",
       "..                                                 ...\n",
       "421  Oh yeah, all right Are you going to be in my d...\n",
       "422  Oh no brother Can you take me, can you take me...\n",
       "423  Gnik nus eht semoc ereh Gnik nus eht semoc ere...\n",
       "424  Happy birthday to you (to you) Happy birthday ...\n",
       "425  Standing in the garden waiting for the sun to ...\n",
       "\n",
       "[426 rows x 1 columns]"
      ]
     },
     "execution_count": 11,
     "metadata": {},
     "output_type": "execute_result"
    }
   ],
   "source": [
    "# save lyrics to a dataframe and parquet file\n",
    "df = pd.DataFrame(cleaned_lyrics)\n",
    "df.rename(columns={0:'lyrics'},inplace=True)\n",
    "# df.to_parquet('beatles_lyrics.parquet')\n",
    "df"
   ]
  },
  {
   "cell_type": "markdown",
   "metadata": {},
   "source": [
    "## Train/ Test Split\n",
    "Split the song lyrics into training and test set. We do not create a validation set because we will not be performing any hyperparameter tuning."
   ]
  },
  {
   "cell_type": "code",
   "execution_count": null,
   "metadata": {},
   "outputs": [],
   "source": [
    "df = pd.read_parquet('beatles_lyrics.parquet').drop_duplicates('lyrics')\n",
    "df.drop(df[df['lyrics'].str.contains('Speech')].index, inplace=True)\n",
    "test_set = df.sample(34)\n",
    "train_set = df.drop(test_set.index)"
   ]
  },
  {
   "cell_type": "code",
   "execution_count": null,
   "metadata": {},
   "outputs": [],
   "source": [
    "# test_set.to_parquet('testing_lyrics.parquet')\n",
    "# train_set.to_parquet('training_lyrics.parquet')\n",
    "f = open('training_lyrics.txt', 'w')\n",
    "train_string = ' '.join(list(train_set.lyrics.values))\n",
    "# f.write(train_string)"
   ]
  }
 ],
 "metadata": {
  "instance_type": "ml.t3.medium",
  "kernelspec": {
   "display_name": "Python 3 (Data Science)",
   "language": "python",
   "name": "python3__SAGEMAKER_INTERNAL__arn:aws:sagemaker:us-east-1:081325390199:image/datascience-1.0"
  },
  "language_info": {
   "codemirror_mode": {
    "name": "ipython",
    "version": 3
   },
   "file_extension": ".py",
   "mimetype": "text/x-python",
   "name": "python",
   "nbconvert_exporter": "python",
   "pygments_lexer": "ipython3",
   "version": "3.7.10"
  }
 },
 "nbformat": 4,
 "nbformat_minor": 4
}
